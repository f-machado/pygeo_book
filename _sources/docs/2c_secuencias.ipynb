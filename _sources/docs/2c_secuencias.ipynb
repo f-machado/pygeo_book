{
 "cells": [
  {
   "cell_type": "markdown",
   "id": "5d11bb02",
   "metadata": {},
   "source": [
    "# Colecciones - Listas, tuplas, sets y diccionarios. "
   ]
  },
  {
   "cell_type": "markdown",
   "id": "7b770a5f",
   "metadata": {},
   "source": [
    "La mayoría de los lenguajes de programación proveen objetos contenedores del tipo `array`, que permiten almacenar un gran número del mismo tipo y acceder a ellos a través de una indexación. Sin embargo Python no contiene en su lenguaje core, o base, el concepto de array. En cambio contiene objetos más generales que permiten el almacenamiento de distintos elementos con sus particularidades, entre ellos `listas`, `tuplas`, `strings o cadenas`, y `diccionarios`. \n",
    "\n",
    "Las listas en Python son un tipo **contenedor**, compuesto, que se usan para almacenar conjuntos de elementos relacionados del mismo tipo o de tipos distintos. Junto a las clases tuple, range y str, son uno de los tipos de **secuencia** en Python, con la particularidad de que son mutables. Esto último quiere decir que su contenido se puede modificar después de haber sido creada.\n",
    "\n",
    "El uso de listas nos permite simular el uso de un array, y en un pasado esta era la forma de realizar cálculo numérico. Pero debido a la generalidad de las listas que dan gran flexibilidad al usuario, tales cálculos toman mucho más tiempo de ejecución que sus equivalentes en Fortran o C, otros lenguajes de programación. \n",
    "\n",
    "Para hacer frente a esta dificultad, los desarrolladores crearon una nueva librería, la famosa `numpy`, que permite la implementación de arrays en C y la vectorización de operaciones, que ayuda a disminuir significativamente pero no completamente eliminar la penalización de velocidad. \n",
    "\n",
    "Para usos genéricos, y en pequeña escala, estos tipos de objetos son útiles y eficientes por lo que serán desarrollados en las siguientes secciones. Es cuando se empieza a escalar en cantidad de datos que `numpy` empieza a tomar escena, situación que es la norma en el uso del procesamiento de imágenes satelitales. \n"
   ]
  },
  {
   "cell_type": "markdown",
   "id": "5f53d2ba",
   "metadata": {},
   "source": [
    "## Listas\n",
    "\n",
    "Una `lista` es un objeto Python que consiste en un conjunto ordenado de elementos, encerrados por corchetes y separados por coma. Pueden agruparse valores de distintos tipos de datos básicos, hasta listas pueden ser un elemento de una lista. \n",
    "\n",
    "Además este tipo de datos se consideran `mutables`, es decir se pueden agregar, eliminar o modificar elementos de las listas en cualquier momento.\n",
    "\n",
    "Para los propósitos de indexación, el orden comienza con el índice `0` para el primer lugar de la lista, y termina con el índice `n-1`, donde n es el número de elementos en la lista.\n",
    "\n",
    "### Inicializar una lista vacía\n",
    "\n",
    "\n",
    "A veces es útil inicializar una lista vacía, donde a lo largo de un programa vayamos agregando distintos elementos a ella. Para ello, existen dos formas de realizarlo:"
   ]
  },
  {
   "cell_type": "code",
   "execution_count": 4,
   "id": "b8923945",
   "metadata": {},
   "outputs": [],
   "source": [
    "lista_vacia = []\n",
    "otra_lista_vacia = list()"
   ]
  },
  {
   "cell_type": "markdown",
   "id": "bd28333a",
   "metadata": {},
   "source": [
    "### Inicializar una lista con elementos\n",
    "\n",
    "Para inicializar una lista con elementos, podemos agregar los datos y/o variables compatibles separados por comas y entre corchetes."
   ]
  },
  {
   "cell_type": "code",
   "execution_count": 5,
   "id": "d4a3cc1d",
   "metadata": {},
   "outputs": [
    {
     "data": {
      "text/plain": [
       "[1, 'b', [], 7.56, True]"
      ]
     },
     "execution_count": 5,
     "metadata": {},
     "output_type": "execute_result"
    }
   ],
   "source": [
    "lista_con_elementos_varios = [1, 'b', lista_vacia, 7.56, True]\n",
    "\n",
    "lista_con_elementos_varios"
   ]
  },
  {
   "cell_type": "markdown",
   "id": "3b349a29",
   "metadata": {},
   "source": [
    "\n",
    "### Determinar el tamaño de la lista\n",
    "\n",
    "Usaremos la función `help` para imprimir que realiza la función `len`, y que argumentos tiene como entrada. \n"
   ]
  },
  {
   "cell_type": "code",
   "execution_count": 21,
   "id": "7372fc9f",
   "metadata": {},
   "outputs": [
    {
     "name": "stdout",
     "output_type": "stream",
     "text": [
      "Help on built-in function len in module builtins:\n",
      "\n",
      "len(obj, /)\n",
      "    Return the number of items in a container.\n",
      "\n",
      "None\n"
     ]
    }
   ],
   "source": [
    "help(len)"
   ]
  },
  {
   "cell_type": "code",
   "execution_count": 14,
   "id": "a8f1d7ae",
   "metadata": {},
   "outputs": [
    {
     "data": {
      "text/plain": [
       "5"
      ]
     },
     "execution_count": 14,
     "metadata": {},
     "output_type": "execute_result"
    }
   ],
   "source": [
    "len(lista_con_elementos_varios)"
   ]
  },
  {
   "cell_type": "markdown",
   "id": "c23719b9",
   "metadata": {},
   "source": [
    "### Agregar elemento a la lista\n",
    "\n",
    "Para agregar un elemento a la lista, usaremos el método `append`:"
   ]
  },
  {
   "cell_type": "code",
   "execution_count": 19,
   "id": "c4048cd1",
   "metadata": {},
   "outputs": [
    {
     "name": "stdout",
     "output_type": "stream",
     "text": [
      "Help on method_descriptor:\n",
      "\n",
      "append(self, object, /)\n",
      "    Append object to the end of the list.\n",
      "\n"
     ]
    }
   ],
   "source": [
    "help(list.append)"
   ]
  },
  {
   "cell_type": "code",
   "execution_count": 18,
   "id": "42575d76",
   "metadata": {},
   "outputs": [
    {
     "data": {
      "text/plain": [
       "[1, 'b', [], 7.56, True, 'SentinelMNDWI_marzo_norm.tif']"
      ]
     },
     "execution_count": 18,
     "metadata": {},
     "output_type": "execute_result"
    }
   ],
   "source": [
    "nuevo_elemento_a_agregar = 'SentinelMNDWI_marzo_norm.tif'\n",
    "lista_con_elementos_varios.append(nuevo_elemento_a_agregar)\n",
    "\n",
    "lista_con_elementos_varios"
   ]
  },
  {
   "cell_type": "markdown",
   "id": "e740d005",
   "metadata": {},
   "source": [
    "### Acceder a un elemento de la lista\n",
    "\n",
    "Como se dijo al principio de esta sección, los elementos de una lista (y en general para todas las secuencias), pueden accederse a través de un índice el cual va de `0` a `n-1`, siendo n el tamaño de la lista."
   ]
  },
  {
   "cell_type": "code",
   "execution_count": 41,
   "id": "a47ce3cb",
   "metadata": {},
   "outputs": [
    {
     "name": "stdout",
     "output_type": "stream",
     "text": [
      "[1, 'b', [], 7.56, True, 'SentinelMNDWI_marzo_norm.tif']\n",
      "El primer elemento de la lista es:  1\n",
      "El último elemento de la lista es:  SentinelMNDWI_marzo_norm.tif\n"
     ]
    }
   ],
   "source": [
    "print(lista_con_elementos_varios)\n",
    "\n",
    "print('El primer elemento de la lista es: ', lista_con_elementos_varios[0])\n",
    "\n",
    "print('El último elemento de la lista es: ', lista_con_elementos_varios[len(lista_con_elementos_varios) - 1])\n"
   ]
  },
  {
   "cell_type": "markdown",
   "id": "5bef72af",
   "metadata": {},
   "source": [
    "Las listas, y en general las secuencias, también permiten la indexación a partir del último elemento usando indexación negativa, accediendo al último elemento con el índice -1, y al primer elemento con n, donde n es el número de elementos totales de la lista.\n",
    "\n",
    "Por lo tanto para acceder al último elemento se puede ejecutar la siguiente sentencia:"
   ]
  },
  {
   "cell_type": "code",
   "execution_count": 39,
   "id": "4971b79e",
   "metadata": {},
   "outputs": [
    {
     "name": "stdout",
     "output_type": "stream",
     "text": [
      "[1, 'b', [], 7.56, True, 'SentinelMNDWI_marzo_norm.tif']\n",
      "El último elemento de la lista es:  SentinelMNDWI_marzo_norm.tif\n"
     ]
    }
   ],
   "source": [
    "print(lista_con_elementos_varios)\n",
    "\n",
    "print('El último elemento de la lista es: ', lista_con_elementos_varios[-1])\n",
    "\n"
   ]
  },
  {
   "cell_type": "code",
   "execution_count": 40,
   "id": "ab7c37fd",
   "metadata": {},
   "outputs": [
    {
     "name": "stdout",
     "output_type": "stream",
     "text": [
      "El primer elemento de la lista usando indexación negativa es:  1\n"
     ]
    }
   ],
   "source": [
    "print('El primer elemento de la lista usando indexación negativa es: ', lista_con_elementos_varios[-len(lista_con_elementos_varios)])\n",
    "\n"
   ]
  },
  {
   "cell_type": "markdown",
   "id": "806fd4a1",
   "metadata": {},
   "source": [
    "### Acceso a un subconjunto de elementos"
   ]
  },
  {
   "cell_type": "code",
   "execution_count": null,
   "id": "744c6420",
   "metadata": {},
   "outputs": [],
   "source": []
  },
  {
   "cell_type": "markdown",
   "id": "e282fb7b",
   "metadata": {},
   "source": [
    "### Modificar elementos de una lista"
   ]
  },
  {
   "cell_type": "code",
   "execution_count": null,
   "id": "9a437e2f",
   "metadata": {},
   "outputs": [],
   "source": []
  },
  {
   "cell_type": "markdown",
   "id": "40f66a03",
   "metadata": {},
   "source": [
    "### Eliminar un elemento de una lista"
   ]
  },
  {
   "cell_type": "code",
   "execution_count": null,
   "id": "1116cc84",
   "metadata": {},
   "outputs": [],
   "source": []
  },
  {
   "cell_type": "markdown",
   "id": "9cf18f64",
   "metadata": {},
   "source": [
    "### Operadores de pertenencia"
   ]
  },
  {
   "cell_type": "code",
   "execution_count": null,
   "id": "04114df2",
   "metadata": {},
   "outputs": [],
   "source": []
  },
  {
   "cell_type": "markdown",
   "id": "5c736d75",
   "metadata": {},
   "source": [
    "### Ordenar una lista"
   ]
  },
  {
   "cell_type": "markdown",
   "id": "e37ce39e",
   "metadata": {},
   "source": [
    "## Sets"
   ]
  },
  {
   "cell_type": "markdown",
   "id": "163e3738",
   "metadata": {},
   "source": [
    "## Tuplas"
   ]
  },
  {
   "cell_type": "markdown",
   "id": "f4450166",
   "metadata": {},
   "source": [
    "## Diccionarios"
   ]
  },
  {
   "cell_type": "markdown",
   "id": "a1d484ee",
   "metadata": {},
   "source": [
    "\n",
    "\n",
    "##  Operaciones comunes de las secuencias\n",
    "\n",
    "Las operaciones de la siguiente tabla están soportadas por la mayoría de los tipos secuencia, tanto mutables como inmutables. La clase ABC collections.abc.Sequence se incluye para facilitar la implementación correcta de estas operaciones en nuestros propios tipos de secuencias.\n",
    "\n",
    "La tabla lista las operaciones ordenadas de menor a mayor prioridad. En la tabla, s y t representan secuencias del mismo tipo, n, i, j y k son números enteros y x es un objeto arbitrario que cumple con cualquier restricción de tipo o valor impuesta por s.\n",
    "\n"
   ]
  }
 ],
 "metadata": {
  "kernelspec": {
   "display_name": "Python 3.7.12 ('pygeo_book')",
   "language": "python",
   "name": "python3"
  },
  "language_info": {
   "codemirror_mode": {
    "name": "ipython",
    "version": 3
   },
   "file_extension": ".py",
   "mimetype": "text/x-python",
   "name": "python",
   "nbconvert_exporter": "python",
   "pygments_lexer": "ipython3",
   "version": "3.7.12"
  },
  "vscode": {
   "interpreter": {
    "hash": "75212034a15fe87100ac975bfc5a3e7ed91f0355efa502cabecca8fcfe7760fe"
   }
  }
 },
 "nbformat": 4,
 "nbformat_minor": 5
}
