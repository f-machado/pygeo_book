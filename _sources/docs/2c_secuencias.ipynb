{
 "cells": [
  {
   "cell_type": "markdown",
   "id": "5d11bb02",
   "metadata": {},
   "source": [
    "# Colecciones - Listas, tuplas, sets y diccionarios. "
   ]
  },
  {
   "cell_type": "markdown",
   "id": "7b770a5f",
   "metadata": {},
   "source": [
    "La mayoría de los lenguajes de programación proveen objetos contenedores del tipo `array`, que permiten almacenar un gran número del mismo tipo y acceder a ellos a través de una indexación. Sin embargo Python no contiene en su lenguaje core, o base, el concepto de array. En cambio contiene objetos más generales que permiten el almacenamiento de distintos elementos con sus particularidades, entre ellos `listas`, `tuplas`, `strings o cadenas`, y `diccionarios`. \n",
    "\n",
    "Las listas en Python son un tipo **contenedor**, compuesto, que se usan para almacenar conjuntos de elementos relacionados del mismo tipo o de tipos distintos. Junto a las clases tuple, range y str, son uno de los tipos de **secuencia** en Python, con la particularidad de que son mutables. Esto último quiere decir que su contenido se puede modificar después de haber sido creada.\n",
    "\n",
    "El uso de listas nos permite simular el uso de un array, y en un pasado esta era la forma de realizar cálculo numérico. Pero debido a la generalidad de las listas que dan gran flexibilidad al usuario, tales cálculos toman mucho más tiempo de ejecución que sus equivalentes en Fortran o C, otros lenguajes de programación. \n",
    "\n",
    "Para hacer frente a esta dificultad, los desarrolladores crearon una nueva librería, la famosa `numpy`, que permite la implementación de arrays en C y la vectorización de operaciones, que ayuda a disminuir significativamente pero no completamente eliminar la penalización de velocidad. \n",
    "\n",
    "Para usos genéricos, y en pequeña escala, estos tipos de objetos son útiles y eficientes por lo que serán desarrollados en las siguientes secciones. Es cuando se empieza a escalar en cantidad de datos que `numpy` empieza a tomar escena, situación que es la norma en el uso del procesamiento de imágenes satelitales. \n"
   ]
  },
  {
   "cell_type": "markdown",
   "id": "5f53d2ba",
   "metadata": {},
   "source": [
    "## Listas\n",
    "\n",
    "Una `lista` es un objeto Python que consiste en un conjunto ordenado de elementos, encerrados por corchetes y separados por coma. Pueden agruparse valores de distintos tipos de datos básicos, hasta listas pueden ser un elemento de una lista. \n",
    "\n",
    "Además este tipo de datos se consideran `mutables`, es decir se pueden agregar, eliminar o modificar elementos de las listas en cualquier momento.\n",
    "\n",
    "Para los propósitos de indexación, el orden comienza con el índice `0` para el primer lugar de la lista, y termina con el índice `n-1`, donde n es el número de elementos en la lista.\n",
    "\n",
    "### Inicializar una lista vacía\n",
    "\n",
    "\n",
    "A veces es útil inicializar una lista vacía, donde a lo largo de un programa vayamos agregando distintos elementos a ella. Para ello, existen dos formas de realizarlo:"
   ]
  },
  {
   "cell_type": "code",
   "execution_count": 4,
   "id": "b8923945",
   "metadata": {},
   "outputs": [],
   "source": [
    "lista_vacia = []\n",
    "otra_lista_vacia = list()"
   ]
  },
  {
   "cell_type": "markdown",
   "id": "bd28333a",
   "metadata": {},
   "source": [
    "### Inicializar una lista con elementos\n",
    "\n",
    "Para inicializar una lista con elementos, podemos agregar los datos y/o variables compatibles separados por comas y entre corchetes."
   ]
  },
  {
   "cell_type": "code",
   "execution_count": 5,
   "id": "d4a3cc1d",
   "metadata": {},
   "outputs": [
    {
     "data": {
      "text/plain": [
       "[1, 'b', [], 7.56, True]"
      ]
     },
     "execution_count": 5,
     "metadata": {},
     "output_type": "execute_result"
    }
   ],
   "source": [
    "lista_con_elementos_varios = [1, 'b', lista_vacia, 7.56, True]\n",
    "\n",
    "lista_con_elementos_varios"
   ]
  },
  {
   "cell_type": "markdown",
   "id": "3b349a29",
   "metadata": {},
   "source": [
    "\n",
    "### Determinar el tamaño de la lista\n",
    "\n",
    "Usaremos la función `help` para imprimir que realiza la función `len`, y que argumentos tiene como entrada. \n"
   ]
  },
  {
   "cell_type": "code",
   "execution_count": 21,
   "id": "7372fc9f",
   "metadata": {},
   "outputs": [
    {
     "name": "stdout",
     "output_type": "stream",
     "text": [
      "Help on built-in function len in module builtins:\n",
      "\n",
      "len(obj, /)\n",
      "    Return the number of items in a container.\n",
      "\n",
      "None\n"
     ]
    }
   ],
   "source": [
    "help(len)"
   ]
  },
  {
   "cell_type": "code",
   "execution_count": 14,
   "id": "a8f1d7ae",
   "metadata": {},
   "outputs": [
    {
     "data": {
      "text/plain": [
       "5"
      ]
     },
     "execution_count": 14,
     "metadata": {},
     "output_type": "execute_result"
    }
   ],
   "source": [
    "len(lista_con_elementos_varios)"
   ]
  },
  {
   "cell_type": "markdown",
   "id": "c23719b9",
   "metadata": {},
   "source": [
    "### Agregar elemento a la lista\n",
    "\n",
    "Para agregar un elemento a la lista, usaremos el método `append`:"
   ]
  },
  {
   "cell_type": "code",
   "execution_count": 19,
   "id": "c4048cd1",
   "metadata": {},
   "outputs": [
    {
     "name": "stdout",
     "output_type": "stream",
     "text": [
      "Help on method_descriptor:\n",
      "\n",
      "append(self, object, /)\n",
      "    Append object to the end of the list.\n",
      "\n"
     ]
    }
   ],
   "source": [
    "help(list.append)"
   ]
  },
  {
   "cell_type": "code",
   "execution_count": 18,
   "id": "42575d76",
   "metadata": {},
   "outputs": [
    {
     "data": {
      "text/plain": [
       "[1, 'b', [], 7.56, True, 'SentinelMNDWI_marzo_norm.tif']"
      ]
     },
     "execution_count": 18,
     "metadata": {},
     "output_type": "execute_result"
    }
   ],
   "source": [
    "nuevo_elemento_a_agregar = 'SentinelMNDWI_marzo_norm.tif'\n",
    "lista_con_elementos_varios.append(nuevo_elemento_a_agregar)\n",
    "\n",
    "lista_con_elementos_varios"
   ]
  },
  {
   "cell_type": "markdown",
   "id": "e740d005",
   "metadata": {},
   "source": [
    "### Acceder a un elemento de la lista\n",
    "\n",
    "Como se dijo al principio de esta sección, los elementos de una lista (y en general para todas las secuencias), pueden accederse a través de un índice el cual va de `0` a `n-1`, siendo n el tamaño de la lista."
   ]
  },
  {
   "cell_type": "code",
   "execution_count": 41,
   "id": "a47ce3cb",
   "metadata": {},
   "outputs": [
    {
     "name": "stdout",
     "output_type": "stream",
     "text": [
      "[1, 'b', [], 7.56, True, 'SentinelMNDWI_marzo_norm.tif']\n",
      "El primer elemento de la lista es:  1\n",
      "El último elemento de la lista es:  SentinelMNDWI_marzo_norm.tif\n"
     ]
    }
   ],
   "source": [
    "print(lista_con_elementos_varios)\n",
    "\n",
    "print('El primer elemento de la lista es: ', lista_con_elementos_varios[0])\n",
    "\n",
    "print('El último elemento de la lista es: ', lista_con_elementos_varios[len(lista_con_elementos_varios) - 1])\n"
   ]
  },
  {
   "cell_type": "markdown",
   "id": "5bef72af",
   "metadata": {},
   "source": [
    "Las listas, y en general las secuencias, también permiten la indexación a partir del último elemento usando indexación negativa, accediendo al último elemento con el índice `-1`, y al primer elemento con `n`, donde `n` es el número de elementos totales de la lista.\n",
    "\n",
    "Por lo tanto para acceder al último elemento se puede ejecutar la siguiente sentencia:"
   ]
  },
  {
   "cell_type": "code",
   "execution_count": 39,
   "id": "4971b79e",
   "metadata": {},
   "outputs": [
    {
     "name": "stdout",
     "output_type": "stream",
     "text": [
      "[1, 'b', [], 7.56, True, 'SentinelMNDWI_marzo_norm.tif']\n",
      "El último elemento de la lista es:  SentinelMNDWI_marzo_norm.tif\n"
     ]
    }
   ],
   "source": [
    "print(lista_con_elementos_varios)\n",
    "\n",
    "print('El último elemento de la lista es: ', lista_con_elementos_varios[-1])\n",
    "\n"
   ]
  },
  {
   "cell_type": "code",
   "execution_count": 40,
   "id": "ab7c37fd",
   "metadata": {},
   "outputs": [
    {
     "name": "stdout",
     "output_type": "stream",
     "text": [
      "El primer elemento de la lista usando indexación negativa es:  1\n"
     ]
    }
   ],
   "source": [
    "print('El primer elemento de la lista usando indexación negativa es: ', lista_con_elementos_varios[-len(lista_con_elementos_varios)])\n",
    "\n"
   ]
  },
  {
   "cell_type": "markdown",
   "id": "806fd4a1",
   "metadata": {},
   "source": [
    "### Acceso a un subconjunto de elementos\n",
    "\n",
    "Dada un lista cualquiera, podemos formar listas a partir de ella usando la operación de slicing. La forma más básica de realizarla es, dada una lista llamada `l`, podemos acceder a un subconjunto dado por por `l`[`principio`:`final`], utilizado el operador `[:]`.\n",
    "\n",
    "<img src=\"../images/list_slicing.png\" class=\"align-center\"/>\n",
    "\n",
    "Notemos que el subconjunto extraído mediante esta notación va desde `principio` hasta `final-1`. También los argumentos de principio y final son opcionales, si no se especifican se toma por defecto el primer elemento de la lista, o el último.\n",
    "\n"
   ]
  },
  {
   "cell_type": "code",
   "execution_count": 62,
   "id": "00cfb522",
   "metadata": {},
   "outputs": [
    {
     "name": "stdout",
     "output_type": "stream",
     "text": [
      "Esta es la lista de ejemplo usada como base para extraer subsecciones:  ['a', 'b', 'c', 'd', 'e', 'f', 'g', 'h']\n",
      "Resultado de [0:4]:  ['a', 'b', 'c', 'd']\n",
      "Resultado de [:4]:  ['a', 'b', 'c', 'd']\n",
      "Resultado de [-4:-1]:  ['e', 'f', 'g']\n",
      "Resultado de [-4:]:  ['e', 'f', 'g', 'h']\n",
      "Resultado de [1:-3]:  ['b', 'c', 'd', 'e']\n"
     ]
    }
   ],
   "source": [
    "#Inicialiar la lista de esta forma con un string, nos crea una lista con cada elemento ocupando un lugar en la lista.\n",
    "lista_ejemplo = list('abcdefgh') \n",
    "\n",
    "print('Esta es la lista de ejemplo usada como base para extraer subsecciones: ', lista_ejemplo)\n",
    "\n",
    "#Observamos que se imprimen los elementos de la lista de la posición 0 hasta la 3. \n",
    "print('Resultado de [0:4]: ', lista_ejemplo[0:4])\n",
    "\n",
    "# Los argumentos de principio y final son opcionales en el operador :\n",
    "# Vemos que el 0 se puede obviar en esta ocasión para obtener un ressultado equivalente:\n",
    "print('Resultado de [:4]: ', lista_ejemplo[:4])\n",
    "\n",
    "# También se pueden usar subíndices negativos\n",
    "print('Resultado de [-4:-1]: ', lista_ejemplo[-4:-1])\n",
    "\n",
    "print('Resultado de [-4:]: ', lista_ejemplo[-4:])\n",
    "\n",
    "# Y combinación de índices positivos y negativos\n",
    "\n",
    "print('Resultado de [1:-3]: ', lista_ejemplo[1:-3])\n",
    "\n",
    "\n"
   ]
  },
  {
   "cell_type": "markdown",
   "id": "0fc68a93",
   "metadata": {},
   "source": [
    "También es posible acceder a los elementos de una lista indicando un paso con el operador `[::]`, es decir [`principio`:`final`:`paso`]."
   ]
  },
  {
   "cell_type": "code",
   "execution_count": 67,
   "id": "744c6420",
   "metadata": {},
   "outputs": [
    {
     "name": "stdout",
     "output_type": "stream",
     "text": [
      "Esta es la lista de ejemplo usada como base para extraer subsecciones:  ['a', 'b', 'c', 'd', 'e', 'f', 'g', 'h']\n",
      "Resultado de [0:4:2]:  ['a', 'c']\n",
      "Resultado de [::-1]:  ['h', 'g', 'f', 'e', 'd', 'c', 'b', 'a']\n",
      "Resultado de [-6:-4:-2]:  ['e', 'c']\n"
     ]
    }
   ],
   "source": [
    "print('Esta es la lista de ejemplo usada como base para extraer subsecciones: ', lista_ejemplo)\n",
    "\n",
    "#Observamos que se imprimen los elementos de la lista de la posición 0 hasta la 4, con un paso de 2. \n",
    "print('Resultado de [0:4:2]: ', lista_ejemplo[0:4:2])\n",
    "\n",
    "# Imprimimos todos los elementos de la lista pero en orden reverso\n",
    "print('Resultado de [::-1]: ', lista_ejemplo[::-1])\n",
    "\n",
    "print('Resultado de [-6:-4:-2]: ', lista_ejemplo[-4:-7:-2])\n",
    "\n"
   ]
  },
  {
   "cell_type": "markdown",
   "id": "e282fb7b",
   "metadata": {},
   "source": [
    "### Modificar elementos de una lista\n",
    "\n",
    "Es posible modificar un elemento de una lista en Python con el operador de asignación `=`. Para ello, lo único que se necesita es el índice del elemento que se quiere modificar o el rango de índices:"
   ]
  },
  {
   "cell_type": "code",
   "execution_count": 69,
   "id": "5aa26c4d",
   "metadata": {},
   "outputs": [
    {
     "data": {
      "text/plain": [
       "['alpha',\n",
       " 'beta',\n",
       " 'gamma',\n",
       " 'e',\n",
       " 'f',\n",
       " 'g',\n",
       " 'El saldo de tu tarjeta es insuficiente']"
      ]
     },
     "execution_count": 69,
     "metadata": {},
     "output_type": "execute_result"
    }
   ],
   "source": [
    "lista_ejemplo[0:4] = ['alpha', 'beta', 'gamma']\n",
    "lista_ejemplo[-1] = 'El saldo de tu tarjeta es insuficiente'\n",
    "\n",
    "lista_ejemplo"
   ]
  },
  {
   "cell_type": "markdown",
   "id": "1116cc84",
   "metadata": {},
   "source": [
    "###"
   ]
  },
  {
   "cell_type": "markdown",
   "id": "9cf18f64",
   "metadata": {},
   "source": [
    "### Operadores de pertenencia en listas\n",
    "\n",
    "Se pueden utilizar los operadores de pertinencia `in` y `not in` para determinar si un elemento en particular se encuentra dentro de una lista, y en general en cualquier secuencia. \n",
    "\n",
    "Si el elemento se encuentra en la lista, el operador `in` dará `True` y `False` si no se encuentra. Asimismo `not in` es la operación complemento. "
   ]
  },
  {
   "cell_type": "code",
   "execution_count": 76,
   "id": "ec1f4e05",
   "metadata": {},
   "outputs": [
    {
     "name": "stdout",
     "output_type": "stream",
     "text": [
      "Los valores de los elementos de la lista son:  ['alpha', 'beta', 'gamma', 'e', 'f', 'g', 'El saldo de tu tarjeta es insuficiente']\n",
      "\n",
      "Se encuentra e en lista_ejemplo?:  True\n",
      "Se encuentra a en lista_ejemplo?:  False\n",
      "No se encuentra a en lista_ejemplo?:  True\n"
     ]
    }
   ],
   "source": [
    "print('Los valores de los elementos de la lista son: ', lista_ejemplo)\n",
    "print('') #Imprimimos un cadena vacía para hacer un renglón, es puramente estético.\n",
    "\n",
    "print('Se encuentra e en lista_ejemplo?: ', 'e' in lista_ejemplo)\n",
    "print('Se encuentra a en lista_ejemplo?: ', 'a' in lista_ejemplo)\n",
    "print('No se encuentra a en lista_ejemplo?: ', 'a' not in lista_ejemplo)\n"
   ]
  },
  {
   "cell_type": "markdown",
   "id": "b6c42179",
   "metadata": {},
   "source": [
    "### Tabla resumen de otras operaciones"
   ]
  },
  {
   "cell_type": "markdown",
   "id": "9a135890",
   "metadata": {},
   "source": [
    "<style type=\"text/css\">\n",
    ".tg  {border-collapse:collapse;border-color:#ccc;border-spacing:0;}\n",
    ".tg td{background-color:#fff;border-color:#ccc;border-style:solid;border-width:1px;color:#333;\n",
    "  font-family:Arial, sans-serif;font-size:14px;overflow:hidden;padding:10px 5px;word-break:normal;}\n",
    ".tg th{background-color:#f0f0f0;border-color:#ccc;border-style:solid;border-width:1px;color:#333;\n",
    "  font-family:Arial, sans-serif;font-size:14px;font-weight:normal;overflow:hidden;padding:10px 5px;word-break:normal;}\n",
    ".tg .tg-64ey{background-color:#dae8fc;border-color:#c0c0c0;font-family:inherit;text-align:center;vertical-align:top}\n",
    ".tg .tg-35ak{background-color:#dae8fc;border-color:#c0c0c0;font-family:inherit;text-align:left;vertical-align:top}\n",
    ".tg .tg-ow7q{border-color:#c0c0c0;font-family:inherit;text-align:left;vertical-align:top}\n",
    "</style>\n",
    "<table class=\"tg\">\n",
    "<thead>\n",
    "  <tr>\n",
    "    <th class=\"tg-64ey\">Método</th>\n",
    "    <th class=\"tg-35ak\">Descripción</th>\n",
    "  </tr>\n",
    "</thead>\n",
    "<tbody>\n",
    "  <tr>\n",
    "    <td class=\"tg-ow7q\">append()</td>\n",
    "    <td class=\"tg-ow7q\">Añade un nuevo elemento al final de la lista.</td>\n",
    "  </tr>\n",
    "  <tr>\n",
    "    <td class=\"tg-ow7q\">extend()</td>\n",
    "    <td class=\"tg-ow7q\">Añade un grupo de elementos (iterables) al final de la lista.</td>\n",
    "  </tr>\n",
    "  <tr>\n",
    "    <td class=\"tg-ow7q\">insert(indice, elemento)</td>\n",
    "    <td class=\"tg-ow7q\">Inserta un elemento en una posición concreta de la lista.</td>\n",
    "  </tr>\n",
    "  <tr>\n",
    "    <td class=\"tg-ow7q\">remove(elemento)</td>\n",
    "    <td class=\"tg-ow7q\">Elimina la primera ocurrencia del elemento en la lista.</td>\n",
    "  </tr>\n",
    "  <tr>\n",
    "    <td class=\"tg-ow7q\">pop([i])</td>\n",
    "    <td class=\"tg-ow7q\">Obtiene y elimina el elemento de la lista en la posición i. Si no se especifica, obtiene y elimina el último elemento.</td>\n",
    "  </tr>\n",
    "  <tr>\n",
    "    <td class=\"tg-ow7q\">clear()</td>\n",
    "    <td class=\"tg-ow7q\">Borra todos los elementos de la lista.</td>\n",
    "  </tr>\n",
    "  <tr>\n",
    "    <td class=\"tg-ow7q\">index(elemento)</td>\n",
    "    <td class=\"tg-ow7q\">Obtiene el índice de la primera ocurrencia del elemento en la lista. Si el elemento no se encuentra, se lanza la excepción ValueError.</td>\n",
    "  </tr>\n",
    "  <tr>\n",
    "    <td class=\"tg-ow7q\">count(elemento)</td>\n",
    "    <td class=\"tg-ow7q\">Devuelve el número de ocurrencias del elemento en la lista.</td>\n",
    "  </tr>\n",
    "  <tr>\n",
    "    <td class=\"tg-ow7q\">sort()</td>\n",
    "    <td class=\"tg-ow7q\">Ordena los elementos de la lista utilizando el operador &lt;.</td>\n",
    "  </tr>\n",
    "  <tr>\n",
    "    <td class=\"tg-ow7q\">reverse()</td>\n",
    "    <td class=\"tg-ow7q\">Obtiene los elementos de la lista en orden inverso.</td>\n",
    "  </tr>\n",
    "  <tr>\n",
    "    <td class=\"tg-ow7q\">copy()</td>\n",
    "    <td class=\"tg-ow7q\">Devuelve una copia poco profunda de la lista.</td>\n",
    "  </tr>\n",
    "</tbody>\n",
    "</table>"
   ]
  },
  {
   "cell_type": "markdown",
   "id": "e37ce39e",
   "metadata": {},
   "source": [
    "## Sets"
   ]
  },
  {
   "cell_type": "markdown",
   "id": "163e3738",
   "metadata": {},
   "source": [
    "## Tuplas"
   ]
  },
  {
   "cell_type": "markdown",
   "id": "f4450166",
   "metadata": {},
   "source": [
    "## Diccionarios"
   ]
  },
  {
   "cell_type": "markdown",
   "id": "a1d484ee",
   "metadata": {},
   "source": [
    "\n",
    "\n",
    "##  Operaciones comunes de las secuencias\n",
    "\n",
    "Las operaciones de la siguiente tabla están soportadas por la mayoría de los tipos secuencia, tanto mutables como inmutables. La clase ABC collections.abc.Sequence se incluye para facilitar la implementación correcta de estas operaciones en nuestros propios tipos de secuencias.\n",
    "\n",
    "La tabla lista las operaciones ordenadas de menor a mayor prioridad. En la tabla, s y t representan secuencias del mismo tipo, n, i, j y k son números enteros y x es un objeto arbitrario que cumple con cualquier restricción de tipo o valor impuesta por s.\n",
    "\n"
   ]
  }
 ],
 "metadata": {
  "kernelspec": {
   "display_name": "Python 3.7.12 ('pygeo_book')",
   "language": "python",
   "name": "python3"
  },
  "language_info": {
   "codemirror_mode": {
    "name": "ipython",
    "version": 3
   },
   "file_extension": ".py",
   "mimetype": "text/x-python",
   "name": "python",
   "nbconvert_exporter": "python",
   "pygments_lexer": "ipython3",
   "version": "3.7.12"
  },
  "vscode": {
   "interpreter": {
    "hash": "75212034a15fe87100ac975bfc5a3e7ed91f0355efa502cabecca8fcfe7760fe"
   }
  }
 },
 "nbformat": 4,
 "nbformat_minor": 5
}
