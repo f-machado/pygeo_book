{
 "cells": [
  {
   "cell_type": "markdown",
   "id": "10203c7e",
   "metadata": {},
   "source": [
    "# Python científico"
   ]
  },
  {
   "cell_type": "markdown",
   "id": "5e36589b",
   "metadata": {},
   "source": [
    "El uso de Python en la comunidad científica responde a las necesidades de sus integrantes de contar con una herramienta que permita obtener, manipular y procesar datos con el objetivo de obtener resultados que puedan ser visualizados, fácilmente entendibles con figuras de alta calidad listas para reportes y/o publicaciones. "
   ]
  },
  {
   "cell_type": "markdown",
   "id": "bb3a81a2",
   "metadata": {},
   "source": [
    "Comparados con otros lenguajes Python ofrece librerías científicas desarrolladas y maduras, con una comunidad activa en un marco de software libre y abierto. Muchas de estas librerías escapa del ámbito científico para proveer soporte en otras áreas de interés, como servidores web, acceso a puertos; todo ofrecido en un código con una gran variedad de entornos del cual podemos elegir trabajar, como IPython, Spyder, Jupyter notebooks, Pycharm, Visual Studio Code, entre otras. \n",
    "\n",
    "A diferencia de Matlab o R, Python no viene con una instalación por defecto de módulos usados en la comunidad científica. Esto nos permite importar las librerías que consideramos necesarias para nuestro proyecto, donde su implementación en general ya se encuentra edificientemente maximizada en términos de ejecución y memoria para una implementación rápida y robusta avalada por la comunidad. Además al ser abierto, cualquiera puede entrar a ver el código de cada librería para ver su implementación. \n",
    "\n",
    "Entre las librerías más utilizadas se pueden nombrar a:\n",
    "\n",
    "- [NumPy](https://numpy.org/), permite la creacipon un tipo básico de dato de array que permite la vectorización de operaciones para maximizar la eficiencia.\n",
    "- [SciPy](https://scipy.org/), agrega a Numpy gran variedad de métodos numéricos utilizados en cálculos científicos (interpolación, optimización, búsqueda de raíces, etc.)\n",
    "- [Matplotlib](https://matplotlib.org/), genera figuras particularmente para datos almacenados en arrays Numpy.\n",
    "- [Pandas](https://pandas.pydata.org/), permite la lectura, procesamiento, y escritura de datos tabulares.\n",
    "- [Numba](https://numba.pydata.org/), acelera la ejecución de ciclos básicos compilando en modo JIT (Just In Time).\n",
    "\n",
    "Y entre las más utilizadas para aplicaciones de teledetección y sistemas de información geográficos:\n",
    "\n",
    "- [GDAL](https://gdal.org/)\n",
    "- [Rasterio](https://rasterio.readthedocs.io/en/latest/)\n",
    "- [Geowombat](https://geowombat.readthedocs.io/en/latest/)\n",
    "- [Geopandas](https://geopandas.org/en/stable/)\n",
    "- [Fiona](https://github.com/Toblerity/Fiona)\n",
    "- [Folium](http://python-visualization.github.io/folium/)\n",
    "- [PyProj](https://pypi.org/project/pyproj/)\n",
    "- [Geemap](https://geemap.org/)\n",
    "- [Cartopy](https://scitools.org.uk/cartopy/docs/latest/)\n",
    "\n",
    "\n",
    "https://python-programming.quantecon.org/\n",
    "\n",
    "https://www.msi.umn.edu/tutorials/python-scientific-computing\n",
    "\n",
    "Introduction to Scientific Programming with Python. Joakim Sundnes, 2010.\n",
    "\n",
    "https://realpython.com/python-variables/#variable-types-in-python"
   ]
  }
 ],
 "metadata": {
  "kernelspec": {
   "display_name": "Python 3.7.12 ('pygeo_book')",
   "language": "python",
   "name": "python3"
  },
  "language_info": {
   "codemirror_mode": {
    "name": "ipython",
    "version": 3
   },
   "file_extension": ".py",
   "mimetype": "text/x-python",
   "name": "python",
   "nbconvert_exporter": "python",
   "pygments_lexer": "ipython3",
   "version": "3.7.12"
  },
  "vscode": {
   "interpreter": {
    "hash": "75212034a15fe87100ac975bfc5a3e7ed91f0355efa502cabecca8fcfe7760fe"
   }
  }
 },
 "nbformat": 4,
 "nbformat_minor": 5
}