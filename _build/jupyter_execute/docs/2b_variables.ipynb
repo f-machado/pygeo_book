{
 "cells": [
  {
   "cell_type": "markdown",
   "id": "5d11bb02",
   "metadata": {},
   "source": [
    "# Variables"
   ]
  },
  {
   "cell_type": "markdown",
   "id": "106cb88e",
   "metadata": {},
   "source": [
    "Una variable en Python es un nombre simbólico que sirve como un referencia o puntero a un objeto. Una vez que este objeto es asignado a la variables, se puede referir a este objeto almacenado en la memoria con este nombre. \n"
   ]
  },
  {
   "cell_type": "code",
   "execution_count": 1,
   "id": "24d13b19",
   "metadata": {},
   "outputs": [],
   "source": [
    "a = 5\n",
    "vamos_boquita = False\n",
    "otorrinolaringologia = 'especialidad médico-quirúrgica que se encarga del estudio de las enfermedades del oído, tanto auditivas como del equilibrio, de las vías respiratorias superiores y parte de las inferiores'\n",
    "yrupe = 3.141516\n"
   ]
  },
  {
   "cell_type": "markdown",
   "id": "3ab12c60",
   "metadata": {},
   "source": [
    "La elección del nombre de las variables queda a criterio del programador, donde cada variables puede contener cualquier letra entre la a-z, A-Z, guiones bajos _ y los dígitos 0-9, pero no puede empezar con un número. Asimismo los nombres de variables son sensible a su capitalización, así que `a` es distinto a `A`."
   ]
  },
  {
   "cell_type": "code",
   "execution_count": 2,
   "id": "1b7fdf77",
   "metadata": {},
   "outputs": [
    {
     "name": "stdout",
     "output_type": "stream",
     "text": [
      "El valor de a es  5\n",
      "El valor de A es  6\n",
      "Es a igual a A?:  False\n"
     ]
    }
   ],
   "source": [
    "A = 6\n",
    "\n",
    "print('El valor de a es ', a)\n",
    "print('El valor de A es ', A)\n",
    "print('Es a igual a A?: ', a == A)"
   ]
  },
  {
   "cell_type": "markdown",
   "id": "e8de58d5",
   "metadata": {},
   "source": [
    "Es importante como buena práctica de programación asignar variables con nombres descriptivos para dejar en claro para que son usadas. Hay distintas convenciones sobre como dar estilo a las variables, por ejemplo:\n",
    "\n",
    "\n",
    "- `Estilo Camello`: La segunda y subsiguientes palabras son capitalizadas, para hacer mas legible la variable. \n",
    "Ejemplo: nombreLoteAMuestrear\n",
    "- `Estilo Pascal`: Idéntico al caso anterior, pero con la primer palabra capitalizada.\n",
    "Ejemplo: NombreLoteAMuestrear\n",
    "- `Estilo Serpiente`: Las palabras son separadas por guiones bajos.\n",
    "Ejemplo: nombre_lote_a_muestrear\n",
    "\n",
    "La guía de estilo para código en Python, también conocida como [PEP 8](https://peps.python.org/pep-0008/), contiene una sección de Convenciones de nombramiento que sugiere estándares para nombrar diferentes tipos de objetos. Por ejemplo, recomienda:\n",
    "\n",
    "- Estilo Serpiente para funciones y nombres de variables.\n",
    "- Estilo Pascal para nombres de Clases. (Denominado como \"CapWords\")\n",
    "\n",
    "Lo importante es adoptar una convención y ser consistente a lo largo del desarrollo del programa, para lograr una mayor legibilidad y organización del código. \n"
   ]
  },
  {
   "cell_type": "markdown",
   "id": "c8e3ad54",
   "metadata": {},
   "source": [
    "## Tipos de variables"
   ]
  },
  {
   "cell_type": "markdown",
   "id": "f6972a22",
   "metadata": {},
   "source": [
    "Existen diversos tipos de datos básicos en Python.\n",
    "\n",
    "- Número Entero (`int`)\n",
    "\n",
    "Este tipo de dato se corresponde con números enteros, es decir, sin parte decimal.\n",
    "\n",
    "- Número Decimal (`float`)\n",
    "\n",
    "Este tipo de dato se corresponde con números reales con parte decimal. Cabe destacar que el separador decimal en Python es el punto (.) y no la coma (,).\n",
    "\n",
    "- Caracter (`chr`)\n",
    "\n",
    "Este tipo de dato se corresponde con un símbolo tipográfico, es decir, una letra, número, coma, espacio, signo de punutación, etc.\n",
    "\n",
    "- Cadena de Texto (`str`)\n",
    "\n",
    "Este tipo de datos se corresponde con una cadena de caracteres.\n",
    "\n",
    "- Booleano (`bool`)\n",
    "\n",
    "Este tipo de dato reconoce solamente dos valores: Verdadero (`True`) y Falso (`False`)"
   ]
  },
  {
   "cell_type": "code",
   "execution_count": 3,
   "id": "1538a346",
   "metadata": {},
   "outputs": [
    {
     "name": "stdout",
     "output_type": "stream",
     "text": [
      "El valor de a es: 5\n",
      "El tipo de variable de a es: <class 'int'>\n",
      "\n",
      "\n",
      "El valor de vamos_boquita es: False\n",
      "El tipo de variable de vamos_boquita es: <class 'bool'>\n",
      "\n",
      "\n",
      "El valor de otorrinolaringologia es: especialidad médico-quirúrgica que se encarga del estudio de las enfermedades del oído, tanto auditivas como del equilibrio, de las vías respiratorias superiores y parte de las inferiores\n",
      "El tipo de variable de otorrinolaringologia es: <class 'str'>\n",
      "\n",
      "\n",
      "El valor de yrupe es: 3.141516\n",
      "El tipo de variable de yrupe es: <class 'float'>\n"
     ]
    }
   ],
   "source": [
    "print('El valor de a es:', a) \n",
    "print('El tipo de variable de a es:', type(a))\n",
    "print('\\n') #Imprimir el caracter \\n nos permite hacer un salto de línea\n",
    "\n",
    "print('El valor de vamos_boquita es:', vamos_boquita) \n",
    "print('El tipo de variable de vamos_boquita es:', type(vamos_boquita))\n",
    "print('\\n')\n",
    "\n",
    "print('El valor de otorrinolaringologia es:', otorrinolaringologia) \n",
    "print('El tipo de variable de otorrinolaringologia es:', type(otorrinolaringologia))\n",
    "print('\\n')\n",
    "\n",
    "print('El valor de yrupe es:', yrupe) \n",
    "print('El tipo de variable de yrupe es:', type(yrupe))"
   ]
  },
  {
   "cell_type": "markdown",
   "id": "3d03327e",
   "metadata": {},
   "source": [
    "## Conversión entre tipos de datos\n"
   ]
  },
  {
   "cell_type": "markdown",
   "id": "4676376b",
   "metadata": {},
   "source": [
    "En muchos lenguajes de programación las variables son estáticas con respecto al tipo con las fueron construídas. Sin embargo Python nos ofrece la posibilidad de reasignar el tipo de dato de una variable, cuestión útil para pasar números flotantes a enteros, números en general a caracteres, etc.\n",
    "\n",
    "Para ello, Python ofrece las siguientes funciones:\n",
    "\n",
    "- `str()`: Devuelve la representación en cadena de caracteres del objeto que se pasa como parámetro.\n",
    "- `int()`: Devuelve un int a partir de un número o secuencia de caracteres.\n",
    "- `float()`: Devuelve un float a partir de un número o secuencia de caracteres.\n"
   ]
  },
  {
   "cell_type": "code",
   "execution_count": 4,
   "id": "12b0202d",
   "metadata": {},
   "outputs": [],
   "source": [
    "entero = 33\n",
    "decimal = 2.8182\n",
    "caracter = 'F'\n",
    "cadena = 'P Sherman, calle Wallaby, 42, Sydney'\n",
    "booleano = True"
   ]
  },
  {
   "cell_type": "markdown",
   "id": "f5c29bc3",
   "metadata": {},
   "source": [
    "Tanto los valores Decimales como los Booleanos pueden ser convertidos en Enteros con la función int():"
   ]
  },
  {
   "cell_type": "code",
   "execution_count": 5,
   "id": "fc0c3c60",
   "metadata": {},
   "outputs": [
    {
     "name": "stdout",
     "output_type": "stream",
     "text": [
      "2\n",
      "1\n",
      "0\n"
     ]
    }
   ],
   "source": [
    "print(int(decimal))\n",
    "print(int(True))\n",
    "print(int(False))\n"
   ]
  },
  {
   "cell_type": "markdown",
   "id": "b569b1b6",
   "metadata": {},
   "source": [
    "Algo similar ocurre al intentar convertir Enteros o Booleanos en Decimales con la función float():"
   ]
  },
  {
   "cell_type": "code",
   "execution_count": 6,
   "id": "6b622704",
   "metadata": {},
   "outputs": [
    {
     "name": "stdout",
     "output_type": "stream",
     "text": [
      "33.0\n",
      "1.0\n",
      "0.0\n"
     ]
    }
   ],
   "source": [
    "print(float(entero))\n",
    "print(float(True))\n",
    "print(float(False))\n"
   ]
  },
  {
   "cell_type": "markdown",
   "id": "c9e803ec",
   "metadata": {},
   "source": [
    "Es posible también, a partir de la tabla de caracteres ASCII, obtener el caracter correspondiente a un entero con chr() o viceversa con ord():\n"
   ]
  },
  {
   "cell_type": "code",
   "execution_count": 7,
   "id": "ff12e959",
   "metadata": {},
   "outputs": [
    {
     "name": "stdout",
     "output_type": "stream",
     "text": [
      "!\n",
      "70\n"
     ]
    }
   ],
   "source": [
    "\n",
    "print(chr(entero))\n",
    "print(ord(caracter))"
   ]
  },
  {
   "cell_type": "markdown",
   "id": "ec46b52a",
   "metadata": {},
   "source": [
    "Mucho más interesante que esto último resulta la conversión de cualquiera de los tipos de datos presentados en cadenas de texto, algo de vital importancia a la hora de presentar resultados combinándolos con texto (o al revés, al querer sumar variables string con variables numéricas).\n"
   ]
  },
  {
   "cell_type": "code",
   "execution_count": 8,
   "id": "d431eb2e",
   "metadata": {},
   "outputs": [
    {
     "name": "stdout",
     "output_type": "stream",
     "text": [
      "33\n",
      "<class 'str'>\n",
      "2.8182\n",
      "<class 'str'>\n",
      "True\n",
      "<class 'str'>\n"
     ]
    }
   ],
   "source": [
    "print(str(entero))\n",
    "print(type(str(entero)))\n",
    "\n",
    "print(str(decimal))\n",
    "print(type(str(decimal)))\n",
    "\n",
    "\n",
    "print(str(booleano))\n",
    "print(type(str(booleano)))\n"
   ]
  },
  {
   "cell_type": "markdown",
   "id": "c6e022b8",
   "metadata": {},
   "source": [
    "### Error al sumar una variable string con un variable int"
   ]
  },
  {
   "cell_type": "code",
   "execution_count": 9,
   "id": "4fee140a",
   "metadata": {},
   "outputs": [
    {
     "ename": "TypeError",
     "evalue": "can only concatenate str (not \"int\") to str",
     "output_type": "error",
     "traceback": [
      "\u001b[1;31m---------------------------------------------------------------------------\u001b[0m",
      "\u001b[1;31mTypeError\u001b[0m                                 Traceback (most recent call last)",
      "\u001b[1;32m~\\AppData\\Local\\Temp\\ipykernel_7340\\556082915.py\u001b[0m in \u001b[0;36m<module>\u001b[1;34m\u001b[0m\n\u001b[0;32m      1\u001b[0m \u001b[0medad\u001b[0m \u001b[1;33m=\u001b[0m \u001b[1;34m'29'\u001b[0m\u001b[1;33m\u001b[0m\u001b[1;33m\u001b[0m\u001b[0m\n\u001b[1;32m----> 2\u001b[1;33m \u001b[0medad\u001b[0m \u001b[1;33m=\u001b[0m \u001b[0medad\u001b[0m \u001b[1;33m+\u001b[0m \u001b[1;36m10\u001b[0m\u001b[1;33m\u001b[0m\u001b[1;33m\u001b[0m\u001b[0m\n\u001b[0m",
      "\u001b[1;31mTypeError\u001b[0m: can only concatenate str (not \"int\") to str"
     ]
    }
   ],
   "source": [
    "edad = '29'\n",
    "edad = edad + 10"
   ]
  },
  {
   "cell_type": "markdown",
   "id": "3273230e",
   "metadata": {},
   "source": [
    "### Conversión de string a int para permitir la operación de suma"
   ]
  },
  {
   "cell_type": "code",
   "execution_count": 14,
   "id": "15b3eef0",
   "metadata": {},
   "outputs": [
    {
     "name": "stdout",
     "output_type": "stream",
     "text": [
      "39\n"
     ]
    }
   ],
   "source": [
    "edad = '29'\n",
    "edad = int(edad) + 10\n",
    "print(edad)"
   ]
  },
  {
   "cell_type": "markdown",
   "id": "f07beec4",
   "metadata": {},
   "source": [
    "## Variables reservadas\n",
    "\n",
    "Existen ciertas palabras que tienen significado especial para el intérprete de Python. Estas no pueden utilizarse para ningún otro fin (como ser nombrar valores) excepto para el que han sido creadas. Estas son:\n",
    "\n",
    "- and.\n",
    "- as.\n",
    "- assert.\n",
    "- break.\n",
    "- class.\n",
    "- continue.\n",
    "- def.\n",
    "- del.\n",
    "- elif.\n",
    "- else.\n",
    "- except.\n",
    "- exec.\n",
    "- finally.\n",
    "- for.\n",
    "- from.\n",
    "- global.\n",
    "- if.\n",
    "- import.\n",
    "- in.\n",
    "- is.\n",
    "- lambda.\n",
    "- not.\n",
    "- or.\n",
    "- pass.\n",
    "- print.\n",
    "- raise.\n",
    "- return.\n",
    "- try.\n",
    "- while.\n",
    "- with.\n",
    "- yield."
   ]
  }
 ],
 "metadata": {
  "kernelspec": {
   "display_name": "Python 3.7.12 ('pygeo_book')",
   "language": "python",
   "name": "python3"
  },
  "language_info": {
   "codemirror_mode": {
    "name": "ipython",
    "version": 3
   },
   "file_extension": ".py",
   "mimetype": "text/x-python",
   "name": "python",
   "nbconvert_exporter": "python",
   "pygments_lexer": "ipython3",
   "version": "3.7.12"
  },
  "vscode": {
   "interpreter": {
    "hash": "75212034a15fe87100ac975bfc5a3e7ed91f0355efa502cabecca8fcfe7760fe"
   }
  }
 },
 "nbformat": 4,
 "nbformat_minor": 5
}