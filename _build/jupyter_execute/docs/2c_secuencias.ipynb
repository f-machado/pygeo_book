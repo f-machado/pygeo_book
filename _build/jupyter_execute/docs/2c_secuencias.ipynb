{
 "cells": [
  {
   "cell_type": "markdown",
   "id": "5d11bb02",
   "metadata": {},
   "source": [
    "# Colecciones - Listas, tuplas, sets y diccionarios. "
   ]
  },
  {
   "cell_type": "markdown",
   "id": "5708e762",
   "metadata": {},
   "source": [
    "Hay tres tipos básicos de secuencia: listas, tuplas y objetos de tipo rango. Existen tipos de secuencia especiales usados para el procesado de datos binarios y cadenas de caracteres que se describirán en secciones específicas.\n",
    "\n",
    "Operaciones comunes de las secuencias\n",
    "Las operaciones de la siguiente tabla están soportadas por la mayoría de los tipos secuencia, tanto mutables como inmutables. La clase ABC collections.abc.Sequence se incluye para facilitar la implementación correcta de estas operaciones en nuestros propios tipos de secuencias.\n",
    "\n",
    "La tabla lista las operaciones ordenadas de menor a mayor prioridad. En la tabla, s y t representan secuencias del mismo tipo, n, i, j y k son números enteros y x es un objeto arbitrario que cumple con cualquier restricción de tipo o valor impuesta por s.\n",
    "\n",
    "Las operaciones in y not in tienen la misma prioridad que los operadores de comparación. Las operaciones + (Concatenación) y * (Repetición) tienen la misma prioridad que sus equivalentes numéricos 3"
   ]
  }
 ],
 "metadata": {
  "kernelspec": {
   "display_name": "Python 3.7.12 ('pygeo_book')",
   "language": "python",
   "name": "python3"
  },
  "language_info": {
   "codemirror_mode": {
    "name": "ipython",
    "version": 3
   },
   "file_extension": ".py",
   "mimetype": "text/x-python",
   "name": "python",
   "nbconvert_exporter": "python",
   "pygments_lexer": "ipython3",
   "version": "3.7.12"
  },
  "vscode": {
   "interpreter": {
    "hash": "75212034a15fe87100ac975bfc5a3e7ed91f0355efa502cabecca8fcfe7760fe"
   }
  }
 },
 "nbformat": 4,
 "nbformat_minor": 5
}