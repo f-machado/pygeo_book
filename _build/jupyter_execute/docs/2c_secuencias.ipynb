{
 "cells": [
  {
   "cell_type": "markdown",
   "id": "5d11bb02",
   "metadata": {},
   "source": [
    "# Colecciones - Listas, tuplas, sets y diccionarios. "
   ]
  },
  {
   "cell_type": "markdown",
   "id": "7b770a5f",
   "metadata": {},
   "source": [
    "La mayoría de los lenguajes de programación proveen objetos contenedores del tipo `array`, que permiten almacenar un gran número del mismo tipo y acceder a ellos a través de una indexación. Sin embargo Python no contiene en su lenguaje core, o base, el concepto de array. En cambio contiene objetos más generales que permiten el almacenamiento de distintos elementos con sus particularidades, entre ellos `listas`, `tuplas`, `strings o cadenas`, y `diccionarios`. \n",
    "\n",
    "Las listas en Python son un tipo **contenedor**, compuesto, que se usan para almacenar conjuntos de elementos relacionados del mismo tipo o de tipos distintos. Junto a las clases tuple, range y str, son uno de los tipos de **secuencia** en Python, con la particularidad de que son mutables. Esto último quiere decir que su contenido se puede modificar después de haber sido creada.\n",
    "\n",
    "El uso de listas nos permite simular el uso de un array, y en un pasado esta era la forma de realizar cálculo numérico. Pero debido a la generalidad de las listas que dan gran flexibilidad al usuario, tales cálculos toman mucho más tiempo de ejecución que sus equivalentes en Fortran o C, otros lenguajes de programación. \n",
    "\n",
    "Para hacer frente a esta dificultad, los desarrolladores crearon una nueva librería, la famosa `numpy`, que permite la implementación de arrays en C y la vectorización de operaciones, que ayuda a disminuir significativamente pero no completamente eliminar la penalización de velocidad. \n",
    "\n",
    "Para usos genéricos, y en pequeña escala, estos tipos de objetos son útiles y eficientes por lo que serán desarrollados en las siguientes secciones. Es cuando se empieza a escalar en cantidad de datos que `numpy` empieza a tomar escena, situación que es la norma en el uso del procesamiento de imágenes satelitales. \n"
   ]
  },
  {
   "cell_type": "markdown",
   "id": "5f53d2ba",
   "metadata": {},
   "source": [
    "## Listas\n",
    "\n",
    "Una `lista` es un objeto Python que consiste en un conjunto ordenado de elementos, encerrados por corchetes y separados por coma. Pueden agruparse valores de distintos tipos de datos básicos, hasta listas pueden ser un elemento de una lista. \n",
    "\n",
    "Además este tipo de datos se consideran `mutables`, es decir se pueden agregar, eliminar o modificar elementos de las listas en cualquier momento.\n",
    "\n",
    "Para los propósitos de indexación, el orden comienza con el índice `0` para el primer lugar de la lista, y termina con el índice `n-1`, donde n es el número de elementos en la lista.\n",
    "\n",
    "### Inicializar una lista vacía\n",
    "\n",
    "\n",
    "A veces es útil inicializar una lista vacía, donde a lo largo de un programa vayamos agregando distintos elementos a ella. Para ello, existen dos formas de realizarlo:"
   ]
  },
  {
   "cell_type": "code",
   "execution_count": 1,
   "id": "b8923945",
   "metadata": {},
   "outputs": [],
   "source": [
    "lista_vacia = []\n",
    "otra_lista_vacia = list()"
   ]
  },
  {
   "cell_type": "markdown",
   "id": "68727a0c",
   "metadata": {},
   "source": []
  },
  {
   "cell_type": "markdown",
   "id": "bd28333a",
   "metadata": {},
   "source": [
    "### Inicializar una lista con elementos\n",
    "\n",
    "Para inicializar una lista con elementos, podemos agregar los datos y/o variables compatibles separados por comas y entre corchetes."
   ]
  },
  {
   "cell_type": "code",
   "execution_count": 2,
   "id": "d4a3cc1d",
   "metadata": {},
   "outputs": [
    {
     "data": {
      "text/plain": [
       "[1, 'b', [], 7.56, True]"
      ]
     },
     "execution_count": 2,
     "metadata": {},
     "output_type": "execute_result"
    }
   ],
   "source": [
    "lista_con_elementos_varios = [1, 'b', lista_vacia, 7.56, True]\n",
    "\n",
    "lista_con_elementos_varios"
   ]
  },
  {
   "cell_type": "markdown",
   "id": "e7386a8c",
   "metadata": {},
   "source": []
  },
  {
   "cell_type": "markdown",
   "id": "3b349a29",
   "metadata": {},
   "source": [
    "\n",
    "### Determinar el tamaño de la lista\n",
    "\n",
    "Usaremos la función `help` para imprimir que realiza la función `len`, y que argumentos tiene como entrada. \n"
   ]
  },
  {
   "cell_type": "code",
   "execution_count": 3,
   "id": "7372fc9f",
   "metadata": {},
   "outputs": [
    {
     "name": "stdout",
     "output_type": "stream",
     "text": [
      "Help on built-in function len in module builtins:\n",
      "\n",
      "len(obj, /)\n",
      "    Return the number of items in a container.\n",
      "\n"
     ]
    }
   ],
   "source": [
    "help(len)"
   ]
  },
  {
   "cell_type": "code",
   "execution_count": 4,
   "id": "a8f1d7ae",
   "metadata": {},
   "outputs": [
    {
     "data": {
      "text/plain": [
       "5"
      ]
     },
     "execution_count": 4,
     "metadata": {},
     "output_type": "execute_result"
    }
   ],
   "source": [
    "len(lista_con_elementos_varios)"
   ]
  },
  {
   "cell_type": "markdown",
   "id": "bfd06500",
   "metadata": {},
   "source": []
  },
  {
   "cell_type": "markdown",
   "id": "c23719b9",
   "metadata": {},
   "source": [
    "### Agregar elemento a la lista\n",
    "\n",
    "Para agregar un elemento a la lista, usaremos el método `append`:"
   ]
  },
  {
   "cell_type": "code",
   "execution_count": 5,
   "id": "c4048cd1",
   "metadata": {},
   "outputs": [
    {
     "name": "stdout",
     "output_type": "stream",
     "text": [
      "Help on method_descriptor:\n",
      "\n",
      "append(self, object, /)\n",
      "    Append object to the end of the list.\n",
      "\n"
     ]
    }
   ],
   "source": [
    "help(list.append)"
   ]
  },
  {
   "cell_type": "code",
   "execution_count": 6,
   "id": "42575d76",
   "metadata": {},
   "outputs": [
    {
     "data": {
      "text/plain": [
       "[1, 'b', [], 7.56, True, 'SentinelMNDWI_marzo_norm.tif']"
      ]
     },
     "execution_count": 6,
     "metadata": {},
     "output_type": "execute_result"
    }
   ],
   "source": [
    "nuevo_elemento_a_agregar = 'SentinelMNDWI_marzo_norm.tif'\n",
    "lista_con_elementos_varios.append(nuevo_elemento_a_agregar)\n",
    "\n",
    "lista_con_elementos_varios"
   ]
  },
  {
   "cell_type": "markdown",
   "id": "c49d99b9",
   "metadata": {},
   "source": []
  },
  {
   "cell_type": "markdown",
   "id": "e740d005",
   "metadata": {},
   "source": [
    "### Acceder a un elemento de la lista\n",
    "\n",
    "Como se dijo al principio de esta sección, los elementos de una lista (y en general para todas las secuencias), pueden accederse a través de un índice el cual va de `0` a `n-1`, siendo n el tamaño de la lista."
   ]
  },
  {
   "cell_type": "code",
   "execution_count": 7,
   "id": "a47ce3cb",
   "metadata": {},
   "outputs": [
    {
     "name": "stdout",
     "output_type": "stream",
     "text": [
      "[1, 'b', [], 7.56, True, 'SentinelMNDWI_marzo_norm.tif']\n",
      "El primer elemento de la lista es:  1\n",
      "El último elemento de la lista es:  SentinelMNDWI_marzo_norm.tif\n"
     ]
    }
   ],
   "source": [
    "print(lista_con_elementos_varios)\n",
    "\n",
    "print('El primer elemento de la lista es: ', lista_con_elementos_varios[0])\n",
    "\n",
    "print('El último elemento de la lista es: ', lista_con_elementos_varios[len(lista_con_elementos_varios) - 1])\n"
   ]
  },
  {
   "cell_type": "markdown",
   "id": "5bef72af",
   "metadata": {},
   "source": [
    "Las listas, y en general las secuencias, también permiten la indexación a partir del último elemento usando indexación negativa, accediendo al último elemento con el índice `-1`, y al primer elemento con `n`, donde `n` es el número de elementos totales de la lista.\n",
    "\n",
    "Por lo tanto para acceder al último elemento se puede ejecutar la siguiente sentencia:"
   ]
  },
  {
   "cell_type": "code",
   "execution_count": 8,
   "id": "4971b79e",
   "metadata": {},
   "outputs": [
    {
     "name": "stdout",
     "output_type": "stream",
     "text": [
      "[1, 'b', [], 7.56, True, 'SentinelMNDWI_marzo_norm.tif']\n",
      "El último elemento de la lista es:  SentinelMNDWI_marzo_norm.tif\n"
     ]
    }
   ],
   "source": [
    "print(lista_con_elementos_varios)\n",
    "\n",
    "print('El último elemento de la lista es: ', lista_con_elementos_varios[-1])\n",
    "\n"
   ]
  },
  {
   "cell_type": "code",
   "execution_count": 9,
   "id": "ab7c37fd",
   "metadata": {},
   "outputs": [
    {
     "name": "stdout",
     "output_type": "stream",
     "text": [
      "El primer elemento de la lista usando indexación negativa es:  1\n"
     ]
    }
   ],
   "source": [
    "print('El primer elemento de la lista usando indexación negativa es: ', lista_con_elementos_varios[-len(lista_con_elementos_varios)])\n",
    "\n"
   ]
  },
  {
   "cell_type": "markdown",
   "id": "39edc2ad",
   "metadata": {},
   "source": []
  },
  {
   "cell_type": "markdown",
   "id": "806fd4a1",
   "metadata": {},
   "source": [
    "### Acceso a un subconjunto de elementos\n",
    "\n",
    "Dada un lista cualquiera, podemos formar listas a partir de ella usando la operación de slicing. La forma más básica de realizarla es, dada una lista llamada `l`, podemos acceder a un subconjunto dado por por `l`[`principio`:`final`], utilizado el operador `[:]`.\n",
    "\n",
    "<img src=\"../images/list_slicing.png\" class=\"align-center\"/>\n",
    "\n",
    "Notemos que el subconjunto extraído mediante esta notación va desde `principio` hasta `final-1`. También los argumentos de principio y final son opcionales, si no se especifican se toma por defecto el primer elemento de la lista, o el último.\n",
    "\n"
   ]
  },
  {
   "cell_type": "code",
   "execution_count": 10,
   "id": "00cfb522",
   "metadata": {},
   "outputs": [
    {
     "name": "stdout",
     "output_type": "stream",
     "text": [
      "Esta es la lista de ejemplo usada como base para extraer subsecciones:  ['a', 'b', 'c', 'd', 'e', 'f', 'g', 'h']\n",
      "Resultado de [0:4]:  ['a', 'b', 'c', 'd']\n",
      "Resultado de [:4]:  ['a', 'b', 'c', 'd']\n",
      "Resultado de [-4:-1]:  ['e', 'f', 'g']\n",
      "Resultado de [-4:]:  ['e', 'f', 'g', 'h']\n",
      "Resultado de [1:-3]:  ['b', 'c', 'd', 'e']\n"
     ]
    }
   ],
   "source": [
    "#Inicialiar la lista de esta forma con un string, nos crea una lista con cada elemento ocupando un lugar en la lista.\n",
    "lista_ejemplo = list('abcdefgh') \n",
    "\n",
    "print('Esta es la lista de ejemplo usada como base para extraer subsecciones: ', lista_ejemplo)\n",
    "\n",
    "#Observamos que se imprimen los elementos de la lista de la posición 0 hasta la 3. \n",
    "print('Resultado de [0:4]: ', lista_ejemplo[0:4])\n",
    "\n",
    "# Los argumentos de principio y final son opcionales en el operador :\n",
    "# Vemos que el 0 se puede obviar en esta ocasión para obtener un ressultado equivalente:\n",
    "print('Resultado de [:4]: ', lista_ejemplo[:4])\n",
    "\n",
    "# También se pueden usar subíndices negativos\n",
    "print('Resultado de [-4:-1]: ', lista_ejemplo[-4:-1])\n",
    "\n",
    "print('Resultado de [-4:]: ', lista_ejemplo[-4:])\n",
    "\n",
    "# Y combinación de índices positivos y negativos\n",
    "\n",
    "print('Resultado de [1:-3]: ', lista_ejemplo[1:-3])\n",
    "\n",
    "\n"
   ]
  },
  {
   "cell_type": "markdown",
   "id": "0fc68a93",
   "metadata": {},
   "source": [
    "También es posible acceder a los elementos de una lista indicando un paso con el operador `[::]`, es decir [`principio`:`final`:`paso`]."
   ]
  },
  {
   "cell_type": "code",
   "execution_count": 11,
   "id": "744c6420",
   "metadata": {},
   "outputs": [
    {
     "name": "stdout",
     "output_type": "stream",
     "text": [
      "Esta es la lista de ejemplo usada como base para extraer subsecciones:  ['a', 'b', 'c', 'd', 'e', 'f', 'g', 'h']\n",
      "Resultado de [0:4:2]:  ['a', 'c']\n",
      "Resultado de [::-1]:  ['h', 'g', 'f', 'e', 'd', 'c', 'b', 'a']\n",
      "Resultado de [-6:-4:-2]:  ['e', 'c']\n"
     ]
    }
   ],
   "source": [
    "print('Esta es la lista de ejemplo usada como base para extraer subsecciones: ', lista_ejemplo)\n",
    "\n",
    "#Observamos que se imprimen los elementos de la lista de la posición 0 hasta la 4, con un paso de 2. \n",
    "print('Resultado de [0:4:2]: ', lista_ejemplo[0:4:2])\n",
    "\n",
    "# Imprimimos todos los elementos de la lista pero en orden reverso\n",
    "print('Resultado de [::-1]: ', lista_ejemplo[::-1])\n",
    "\n",
    "print('Resultado de [-6:-4:-2]: ', lista_ejemplo[-4:-7:-2])\n",
    "\n"
   ]
  },
  {
   "cell_type": "markdown",
   "id": "b4a4a753",
   "metadata": {},
   "source": []
  },
  {
   "cell_type": "markdown",
   "id": "e282fb7b",
   "metadata": {},
   "source": [
    "### Modificar elementos de una lista\n",
    "\n",
    "Es posible modificar un elemento de una lista en Python con el operador de asignación `=`. Para ello, lo único que se necesita es el índice del elemento que se quiere modificar o el rango de índices:"
   ]
  },
  {
   "cell_type": "code",
   "execution_count": 12,
   "id": "5aa26c4d",
   "metadata": {},
   "outputs": [
    {
     "data": {
      "text/plain": [
       "['alpha',\n",
       " 'beta',\n",
       " 'gamma',\n",
       " 'e',\n",
       " 'f',\n",
       " 'g',\n",
       " 'El saldo de tu tarjeta es insuficiente']"
      ]
     },
     "execution_count": 12,
     "metadata": {},
     "output_type": "execute_result"
    }
   ],
   "source": [
    "lista_ejemplo[0:4] = ['alpha', 'beta', 'gamma']\n",
    "lista_ejemplo[-1] = 'El saldo de tu tarjeta es insuficiente'\n",
    "\n",
    "lista_ejemplo"
   ]
  },
  {
   "cell_type": "markdown",
   "id": "1116cc84",
   "metadata": {},
   "source": [
    "###"
   ]
  },
  {
   "cell_type": "markdown",
   "id": "9cf18f64",
   "metadata": {},
   "source": [
    "### Operadores de pertenencia en listas\n",
    "\n",
    "Se pueden utilizar los operadores de pertinencia `in` y `not in` para determinar si un elemento en particular se encuentra dentro de una lista, y en general en cualquier secuencia. \n",
    "\n",
    "Si el elemento se encuentra en la lista, el operador `in` dará `True` y `False` si no se encuentra. Asimismo `not in` es la operación complemento. "
   ]
  },
  {
   "cell_type": "code",
   "execution_count": 13,
   "id": "ec1f4e05",
   "metadata": {},
   "outputs": [
    {
     "name": "stdout",
     "output_type": "stream",
     "text": [
      "Los valores de los elementos de la lista son:  ['alpha', 'beta', 'gamma', 'e', 'f', 'g', 'El saldo de tu tarjeta es insuficiente']\n",
      "\n",
      "Se encuentra e en lista_ejemplo?:  True\n",
      "Se encuentra a en lista_ejemplo?:  False\n",
      "No se encuentra a en lista_ejemplo?:  True\n"
     ]
    }
   ],
   "source": [
    "print('Los valores de los elementos de la lista son: ', lista_ejemplo)\n",
    "print('') #Imprimimos un cadena vacía para hacer un renglón, es puramente estético.\n",
    "\n",
    "print('Se encuentra e en lista_ejemplo?: ', 'e' in lista_ejemplo)\n",
    "print('Se encuentra a en lista_ejemplo?: ', 'a' in lista_ejemplo)\n",
    "print('No se encuentra a en lista_ejemplo?: ', 'a' not in lista_ejemplo)\n"
   ]
  },
  {
   "cell_type": "markdown",
   "id": "505374f6",
   "metadata": {},
   "source": []
  },
  {
   "cell_type": "markdown",
   "id": "b6c42179",
   "metadata": {},
   "source": [
    "### Tabla resumen de otras operaciones"
   ]
  },
  {
   "cell_type": "markdown",
   "id": "9a135890",
   "metadata": {},
   "source": [
    "<style type=\"text/css\">\n",
    ".tg  {border-collapse:collapse;border-color:#ccc;border-spacing:0;}\n",
    ".tg td{background-color:#fff;border-color:#ccc;border-style:solid;border-width:1px;color:#333;\n",
    "  font-family:Arial, sans-serif;font-size:14px;overflow:hidden;padding:10px 5px;word-break:normal;}\n",
    ".tg th{background-color:#f0f0f0;border-color:#ccc;border-style:solid;border-width:1px;color:#333;\n",
    "  font-family:Arial, sans-serif;font-size:14px;font-weight:normal;overflow:hidden;padding:10px 5px;word-break:normal;}\n",
    ".tg .tg-64ey{background-color:#dae8fc;border-color:#c0c0c0;font-family:inherit;text-align:center;vertical-align:top}\n",
    ".tg .tg-35ak{background-color:#dae8fc;border-color:#c0c0c0;font-family:inherit;text-align:left;vertical-align:top}\n",
    ".tg .tg-ow7q{border-color:#c0c0c0;font-family:inherit;text-align:left;vertical-align:top}\n",
    "</style>\n",
    "<table class=\"tg\">\n",
    "<thead>\n",
    "  <tr>\n",
    "    <th class=\"tg-64ey\">Método</th>\n",
    "    <th class=\"tg-35ak\">Descripción</th>\n",
    "  </tr>\n",
    "</thead>\n",
    "<tbody>\n",
    "  <tr>\n",
    "    <td class=\"tg-ow7q\">append()</td>\n",
    "    <td class=\"tg-ow7q\">Añade un nuevo elemento al final de la lista.</td>\n",
    "  </tr>\n",
    "  <tr>\n",
    "    <td class=\"tg-ow7q\">extend()</td>\n",
    "    <td class=\"tg-ow7q\">Añade un grupo de elementos (iterables) al final de la lista.</td>\n",
    "  </tr>\n",
    "  <tr>\n",
    "    <td class=\"tg-ow7q\">insert(indice, elemento)</td>\n",
    "    <td class=\"tg-ow7q\">Inserta un elemento en una posición concreta de la lista.</td>\n",
    "  </tr>\n",
    "  <tr>\n",
    "    <td class=\"tg-ow7q\">remove(elemento)</td>\n",
    "    <td class=\"tg-ow7q\">Elimina la primera ocurrencia del elemento en la lista.</td>\n",
    "  </tr>\n",
    "  <tr>\n",
    "    <td class=\"tg-ow7q\">pop([i])</td>\n",
    "    <td class=\"tg-ow7q\">Obtiene y elimina el elemento de la lista en la posición i. Si no se especifica, obtiene y elimina el último elemento.</td>\n",
    "  </tr>\n",
    "  <tr>\n",
    "    <td class=\"tg-ow7q\">clear()</td>\n",
    "    <td class=\"tg-ow7q\">Borra todos los elementos de la lista.</td>\n",
    "  </tr>\n",
    "  <tr>\n",
    "    <td class=\"tg-ow7q\">index(elemento)</td>\n",
    "    <td class=\"tg-ow7q\">Obtiene el índice de la primera ocurrencia del elemento en la lista. Si el elemento no se encuentra, se lanza la excepción ValueError.</td>\n",
    "  </tr>\n",
    "  <tr>\n",
    "    <td class=\"tg-ow7q\">count(elemento)</td>\n",
    "    <td class=\"tg-ow7q\">Devuelve el número de ocurrencias del elemento en la lista.</td>\n",
    "  </tr>\n",
    "  <tr>\n",
    "    <td class=\"tg-ow7q\">sort()</td>\n",
    "    <td class=\"tg-ow7q\">Ordena los elementos de la lista utilizando el operador &lt;.</td>\n",
    "  </tr>\n",
    "  <tr>\n",
    "    <td class=\"tg-ow7q\">reverse()</td>\n",
    "    <td class=\"tg-ow7q\">Obtiene los elementos de la lista en orden inverso.</td>\n",
    "  </tr>\n",
    "  <tr>\n",
    "    <td class=\"tg-ow7q\">copy()</td>\n",
    "    <td class=\"tg-ow7q\">Devuelve una copia poco profunda de la lista.</td>\n",
    "  </tr>\n",
    "</tbody>\n",
    "</table>"
   ]
  },
  {
   "cell_type": "markdown",
   "id": "e37ce39e",
   "metadata": {},
   "source": [
    "## Sets\n",
    "\n",
    "El tipo set en Python es la clase utilizada por el lenguaje para representar los conjuntos. Un conjunto es una colección desordenada de elementos únicos, es decir, que no se repiten.\n",
    "\n",
    "Estas características hacen que los principales usos de esta clase sean conocer si un elemento pertenece o no a una colección y eliminar duplicados de un tipo secuencial (list, tuple o str).\n",
    "\n",
    "Además, esta clase también implementa las típicas operaciones matemáticas sobre conjuntos: unión, intersección, diferencia.\n",
    "\n",
    "Para crear un conjunto, basta con encerrar una serie de elementos entre llaves {}, o bien usar el constructor de la clase set() y pasarle como argumento un objeto iterable (como una lista, una tupla, una cadena …)."
   ]
  },
  {
   "cell_type": "code",
   "execution_count": 14,
   "id": "266c70ee",
   "metadata": {},
   "outputs": [
    {
     "data": {
      "text/plain": [
       "{1, 2, 3, 9}"
      ]
     },
     "execution_count": 14,
     "metadata": {},
     "output_type": "execute_result"
    }
   ],
   "source": [
    "# Crea un conjunto con una serie de elementos entre llaves\n",
    "# Los elementos repetidos se eliminan\n",
    "nuevo_set = {1, 3, 2, 9, 3, 1}\n",
    "nuevo_set"
   ]
  },
  {
   "cell_type": "code",
   "execution_count": 15,
   "id": "33a3a141",
   "metadata": {},
   "outputs": [
    {
     "data": {
      "text/plain": [
       "{' ', ',', 'O', 'a', 'd', 'e', 'g', 'i', 'l', 'm', 'o', 'r', 's', 't', 'í'}"
      ]
     },
     "execution_count": 15,
     "metadata": {},
     "output_type": "execute_result"
    }
   ],
   "source": [
    "# Crea un conjunto a partir de un string\n",
    "# Los caracteres repetidos se eliminan\n",
    "set_a_partir_de_string = set('Oíd mortales, el grito sagrado')\n",
    "set_a_partir_de_string"
   ]
  },
  {
   "cell_type": "code",
   "execution_count": 16,
   "id": "079815e7",
   "metadata": {},
   "outputs": [
    {
     "data": {
      "text/plain": [
       "{1, 3, 5, 6}"
      ]
     },
     "execution_count": 16,
     "metadata": {},
     "output_type": "execute_result"
    }
   ],
   "source": [
    "# Crea un conjunto a partir de una lista\n",
    "# Los elementos repetidos de la lista se eliminan\n",
    "set_a_partir_de_lista = set([3, 5, 6, 1, 5])\n",
    "set_a_partir_de_lista"
   ]
  },
  {
   "cell_type": "markdown",
   "id": "0be17d2a",
   "metadata": {},
   "source": [
    "### Operaciones sobre conjuntos en Python (set operations)\n",
    "\n",
    "Uno de los principales usos del tipo set es utilizarlo en operaciones del álgebra de conjuntos: unión, intersección, diferencia, diferencia simétrica, entre otros.\n",
    "\n",
    "\n",
    "### Unión de conjuntos en Python\n",
    "La unión de dos conjuntos A y B es el conjunto A ∪ B que contiene todos los elementos de A y de B.\n",
    "\n",
    "En Python se utiliza el operador | para realizar la unión de dos o más conjuntos."
   ]
  },
  {
   "cell_type": "code",
   "execution_count": 17,
   "id": "df28a517",
   "metadata": {},
   "outputs": [
    {
     "data": {
      "text/plain": [
       "{1, 2, 3, 4, 6, 8}"
      ]
     },
     "execution_count": 17,
     "metadata": {},
     "output_type": "execute_result"
    }
   ],
   "source": [
    "set_1 = {1, 2, 3, 4, 5}\n",
    "set_2 = {2, 4, 6, 8, 10}\n",
    "set_1 | set_2\n",
    "{1, 2, 3, 4, 6, 8}"
   ]
  },
  {
   "cell_type": "markdown",
   "id": "1221e655",
   "metadata": {},
   "source": [
    "### Intersección de conjuntos en Python\n",
    "La intersección de dos conjuntos A y B es el conjunto A ∩ B que contiene todos los elementos comunes de A y B.\n",
    "\n",
    "En Python se utiliza el operador & para realizar la intersección de dos o más conjuntos."
   ]
  },
  {
   "cell_type": "code",
   "execution_count": 18,
   "id": "3d0a2608",
   "metadata": {},
   "outputs": [
    {
     "data": {
      "text/plain": [
       "{2, 4}"
      ]
     },
     "execution_count": 18,
     "metadata": {},
     "output_type": "execute_result"
    }
   ],
   "source": [
    "set_1 & set_2"
   ]
  },
  {
   "cell_type": "markdown",
   "id": "0ab218aa",
   "metadata": {},
   "source": [
    "### Diferencia de conjuntos en Python\n",
    "La diferencia entre dos conjuntos A y B es el conjunto A \\ B que contiene todos los elementos de A que no pertenecen a B.\n",
    "\n",
    "En Python se utiliza el operador - para realizar la diferencia de dos o más conjuntos."
   ]
  },
  {
   "cell_type": "code",
   "execution_count": 19,
   "id": "207a3a34",
   "metadata": {},
   "outputs": [
    {
     "data": {
      "text/plain": [
       "{1, 3, 5}"
      ]
     },
     "execution_count": 19,
     "metadata": {},
     "output_type": "execute_result"
    }
   ],
   "source": [
    "set_1 - set_2"
   ]
  },
  {
   "cell_type": "markdown",
   "id": "acc96f55",
   "metadata": {},
   "source": [
    "### Diferencia simétrica de conjuntos en Python\n",
    "La diferencia simétrica entre dos conjuntos A y B es el conjunto que contiene los elementos de A y B que no son comunes.\n",
    "\n",
    "En Python se utiliza el operador ^ para realizar la diferencia simétrica de dos o más conjuntos."
   ]
  },
  {
   "cell_type": "code",
   "execution_count": 20,
   "id": "08cec828",
   "metadata": {},
   "outputs": [
    {
     "data": {
      "text/plain": [
       "{1, 3, 5, 6, 8, 10}"
      ]
     },
     "execution_count": 20,
     "metadata": {},
     "output_type": "execute_result"
    }
   ],
   "source": [
    "set_1 ^ set_2"
   ]
  },
  {
   "cell_type": "markdown",
   "id": "51927948",
   "metadata": {},
   "source": [
    "### Inclusión de conjuntos en Python\n",
    "Dado un conjunto A, subcolección del conjunto B o igual a este, sus elementos son un subconjunto de B. Es decir, A es un subconjunto de B y B es un superconjunto de A.\n",
    "\n",
    "En Python se utiliza el operador <= para comprobar si un conjunto A es subconjunto de B y el operador >= para comprobar si un conjunto A es superconjunto de B."
   ]
  },
  {
   "cell_type": "code",
   "execution_count": 21,
   "id": "d083aea6",
   "metadata": {},
   "outputs": [
    {
     "data": {
      "text/plain": [
       "True"
      ]
     },
     "execution_count": 21,
     "metadata": {},
     "output_type": "execute_result"
    }
   ],
   "source": [
    "set_3 = {1, 2}\n",
    "set_4 = {1, 2, 3, 4}\n",
    "set_3 <= set_4"
   ]
  },
  {
   "cell_type": "code",
   "execution_count": 22,
   "id": "f3db8e8d",
   "metadata": {},
   "outputs": [
    {
     "data": {
      "text/plain": [
       "False"
      ]
     },
     "execution_count": 22,
     "metadata": {},
     "output_type": "execute_result"
    }
   ],
   "source": [
    "set_3 >= set_4"
   ]
  },
  {
   "cell_type": "code",
   "execution_count": 23,
   "id": "6bf82f9c",
   "metadata": {},
   "outputs": [
    {
     "data": {
      "text/plain": [
       "True"
      ]
     },
     "execution_count": 23,
     "metadata": {},
     "output_type": "execute_result"
    }
   ],
   "source": [
    "set_4 >= set_3"
   ]
  },
  {
   "cell_type": "markdown",
   "id": "80989c3c",
   "metadata": {},
   "source": [
    "### Conjuntos disjuntos en Python\n",
    "Dos conjuntos A y B son disjuntos si no tienen elementos en común, es decir, la intersección de A y B es el conjunto vacío.\n",
    "\n",
    "En Python se utiliza el método isdisjoint() de la clase set para comprobar si un conjunto es disjunto de otro."
   ]
  },
  {
   "cell_type": "code",
   "execution_count": 24,
   "id": "67aab56b",
   "metadata": {},
   "outputs": [
    {
     "data": {
      "text/plain": [
       "False"
      ]
     },
     "execution_count": 24,
     "metadata": {},
     "output_type": "execute_result"
    }
   ],
   "source": [
    "set_3.isdisjoint(set_4)"
   ]
  },
  {
   "cell_type": "code",
   "execution_count": 25,
   "id": "4a0357c3",
   "metadata": {},
   "outputs": [
    {
     "data": {
      "text/plain": [
       "True"
      ]
     },
     "execution_count": 25,
     "metadata": {},
     "output_type": "execute_result"
    }
   ],
   "source": [
    "set_5 = {1, 2}\n",
    "set_6 = {3, 4}\n",
    "set_5.isdisjoint(set_6)"
   ]
  },
  {
   "cell_type": "markdown",
   "id": "5a2cc52d",
   "metadata": {},
   "source": [
    "### Igualdad de conjuntos en Python\n",
    "En Python dos conjuntos son iguales si y solo si todos los elementos de un conjunto están contenidos en el otro. Esto quiere decir que cada uno es un subconjunto del otro."
   ]
  },
  {
   "cell_type": "code",
   "execution_count": 26,
   "id": "d1cea01d",
   "metadata": {},
   "outputs": [
    {
     "data": {
      "text/plain": [
       "True"
      ]
     },
     "execution_count": 26,
     "metadata": {},
     "output_type": "execute_result"
    }
   ],
   "source": [
    "set_7 = {1, 2}\n",
    "set_8 = {1, 2}\n",
    "\n",
    "set_7 == set_8"
   ]
  },
  {
   "cell_type": "markdown",
   "id": "fc4f7c9e",
   "metadata": {},
   "source": [
    "### Métodos de la clase set en Python\n",
    "\n",
    "<style type=\"text/css\">\n",
    ".tg  {border-collapse:collapse;border-spacing:0;}\n",
    ".tg td{border-color:black;border-style:solid;border-width:1px;font-family:Arial, sans-serif;font-size:14px;\n",
    "  overflow:hidden;padding:10px 5px;word-break:normal;}\n",
    ".tg th{border-color:black;border-style:solid;border-width:1px;font-family:Arial, sans-serif;font-size:14px;\n",
    "  font-weight:normal;overflow:hidden;padding:10px 5px;word-break:normal;}\n",
    ".tg .tg-1eno{background-color:#FFF;color:#7A7A7A;text-align:left;vertical-align:top}\n",
    ".tg .tg-ujmt{background-color:#F7F7F9;border-color:inherit;color:#555;text-align:left;vertical-align:top}\n",
    ".tg .tg-irj4{background-color:#F7F7F9;color:#555;text-align:left;vertical-align:top}\n",
    ".tg .tg-hooj{background-color:#7A7A7A;border-color:inherit;color:#FFF;text-align:left;vertical-align:top}\n",
    ".tg .tg-izov{background-color:#FFF;border-color:inherit;color:#7A7A7A;text-align:left;vertical-align:top}\n",
    "</style>\n",
    "<table class=\"tg\">\n",
    "<thead>\n",
    "  <tr>\n",
    "    <th class=\"tg-hooj\"><span style=\"font-weight:400;color:#FFF;background-color:#7A7A7A\">Método</span></th>\n",
    "    <th class=\"tg-hooj\"><span style=\"font-weight:400;color:#FFF;background-color:#7A7A7A\">Descripción</span></th>\n",
    "  </tr>\n",
    "</thead>\n",
    "<tbody>\n",
    "  <tr>\n",
    "    <td class=\"tg-ujmt\"><span style=\"color:#555;background-color:#F7F7F9\">add(e)</span></td>\n",
    "    <td class=\"tg-izov\"><span style=\"font-weight:400\">Añade un elemento al conjunto.</span></td>\n",
    "  </tr>\n",
    "  <tr>\n",
    "    <td class=\"tg-ujmt\"><span style=\"color:#555;background-color:#F7F7F9\">clear()</span></td>\n",
    "    <td class=\"tg-izov\"><span style=\"font-weight:400\">Elimina todos los elementos del conjunto.</span></td>\n",
    "  </tr>\n",
    "  <tr>\n",
    "    <td class=\"tg-ujmt\"><span style=\"color:#555;background-color:#F7F7F9\">copy()</span></td>\n",
    "    <td class=\"tg-izov\"><span style=\"font-weight:400\">Devuelve una copia superficial del conjunto.</span></td>\n",
    "  </tr>\n",
    "  <tr>\n",
    "    <td class=\"tg-ujmt\"><span style=\"color:#555;background-color:#F7F7F9\">difference(iterable)</span></td>\n",
    "    <td class=\"tg-izov\"><span style=\"font-weight:400\">Devuelve la diferencia del conjunto con el</span> <span style=\"color:#555;background-color:#F7F7F9\">iterable</span> <span style=\"font-weight:400\">como un conjunto nuevo.</span></td>\n",
    "  </tr>\n",
    "  <tr>\n",
    "    <td class=\"tg-ujmt\"><span style=\"color:#555;background-color:#F7F7F9\">difference_update(iterable)</span></td>\n",
    "    <td class=\"tg-izov\"><span style=\"font-weight:400\">Actualiza el conjunto tras realizar la diferencia con el</span> <span style=\"color:#555;background-color:#F7F7F9\">iterable</span><span style=\"font-weight:400\">.</span></td>\n",
    "  </tr>\n",
    "  <tr>\n",
    "    <td class=\"tg-ujmt\"><span style=\"color:#555;background-color:#F7F7F9\">discard(e)</span></td>\n",
    "    <td class=\"tg-izov\"><span style=\"font-weight:400\">Elimina, si existe, el elemento del conjunto.</span></td>\n",
    "  </tr>\n",
    "  <tr>\n",
    "    <td class=\"tg-ujmt\"><span style=\"color:#555;background-color:#F7F7F9\">intersection(iterable)</span></td>\n",
    "    <td class=\"tg-izov\"><span style=\"font-weight:400\">Devuelve la intersección del conjunto con el</span> <span style=\"color:#555;background-color:#F7F7F9\">iterable</span> <span style=\"font-weight:400\">como un conjunto nuevo.</span></td>\n",
    "  </tr>\n",
    "  <tr>\n",
    "    <td class=\"tg-ujmt\"><span style=\"color:#555;background-color:#F7F7F9\">intersection_update(iterable)</span></td>\n",
    "    <td class=\"tg-izov\"><span style=\"font-weight:400\">Actualiza el conjunto tras realizar la intersección con el</span> <span style=\"color:#555;background-color:#F7F7F9\">iterable</span><span style=\"font-weight:400\">.</span></td>\n",
    "  </tr>\n",
    "  <tr>\n",
    "    <td class=\"tg-ujmt\"><span style=\"color:#555;background-color:#F7F7F9\">isdisjoint(iterable)</span></td>\n",
    "    <td class=\"tg-izov\"><span style=\"font-weight:400\">Devuelve</span> <span style=\"color:#555;background-color:#F7F7F9\">True</span> <span style=\"font-weight:400\">si dos conjuntos son disjuntos.</span></td>\n",
    "  </tr>\n",
    "  <tr>\n",
    "    <td class=\"tg-ujmt\"><span style=\"color:#555;background-color:#F7F7F9\">issubset(iterable)</span></td>\n",
    "    <td class=\"tg-izov\"><span style=\"font-weight:400\">Devuelve</span> <span style=\"color:#555;background-color:#F7F7F9\">True</span> <span style=\"font-weight:400\">si el conjunto es subconjunto del</span> <span style=\"color:#555;background-color:#F7F7F9\">iterable</span><span style=\"font-weight:400\">.</span></td>\n",
    "  </tr>\n",
    "  <tr>\n",
    "    <td class=\"tg-ujmt\"><span style=\"color:#555;background-color:#F7F7F9\">issuperset(iterable)</span></td>\n",
    "    <td class=\"tg-izov\"><span style=\"font-weight:400\">Devuelve</span> <span style=\"color:#555;background-color:#F7F7F9\">True</span> <span style=\"font-weight:400\">si el conjunto es superconjunto del</span> <span style=\"color:#555;background-color:#F7F7F9\">iterable</span><span style=\"font-weight:400\">.</span></td>\n",
    "  </tr>\n",
    "  <tr>\n",
    "    <td class=\"tg-irj4\"><span style=\"color:#555;background-color:#F7F7F9\">pop()</span></td>\n",
    "    <td class=\"tg-1eno\"><span style=\"font-weight:400\">Obtiene y elimina un elemento de forma aleatoria del conjunto.</span></td>\n",
    "  </tr>\n",
    "  <tr>\n",
    "    <td class=\"tg-irj4\"><span style=\"color:#555;background-color:#F7F7F9\">remove(e)</span></td>\n",
    "    <td class=\"tg-1eno\"><span style=\"font-weight:400\">Elimina el elemento del conjunto. Si no existe lanza un error.</span></td>\n",
    "  </tr>\n",
    "  <tr>\n",
    "    <td class=\"tg-irj4\"><span style=\"color:#555;background-color:#F7F7F9\">symmetric_difference(iterable)</span></td>\n",
    "    <td class=\"tg-1eno\"><span style=\"font-weight:400\">Devuelve la diferencia simétrica del conjunto con el</span> <span style=\"color:#555;background-color:#F7F7F9\">iterable</span> <span style=\"font-weight:400\">como un conjunto nuevo.</span></td>\n",
    "  </tr>\n",
    "  <tr>\n",
    "    <td class=\"tg-irj4\"><span style=\"color:#555;background-color:#F7F7F9\">symmetric_difference_update(iterable)</span></td>\n",
    "    <td class=\"tg-1eno\"><span style=\"font-weight:400\">Actualiza el conjunto tras realizar la diferencia simétrica con el</span> <span style=\"color:#555;background-color:#F7F7F9\">iterable</span><span style=\"font-weight:400\">.</span></td>\n",
    "  </tr>\n",
    "  <tr>\n",
    "    <td class=\"tg-irj4\"><span style=\"color:#555;background-color:#F7F7F9\">union(iterable)</span></td>\n",
    "    <td class=\"tg-1eno\"><span style=\"font-weight:400\">Devuelve la unión del conjunto con el</span> <span style=\"color:#555;background-color:#F7F7F9\">iterable</span> <span style=\"font-weight:400\">como un conjunto nuevo.</span></td>\n",
    "  </tr>\n",
    "  <tr>\n",
    "    <td class=\"tg-irj4\"><span style=\"color:#555;background-color:#F7F7F9\">update(iterable)</span></td>\n",
    "    <td class=\"tg-1eno\"><span style=\"font-weight:400\">Actualiza el conjunto tras realizar la unión con el</span> <span style=\"color:#555;background-color:#F7F7F9\">iterable</span><span style=\"font-weight:400\">.</span></td>\n",
    "  </tr>\n",
    "</tbody>\n",
    "</table>"
   ]
  },
  {
   "cell_type": "markdown",
   "id": "163e3738",
   "metadata": {},
   "source": [
    "## Tuplas\n",
    "\n",
    "Las tuplas pertenecen a la categoría de tipos secuenciales y, a diferencia del tipo list, las tuplas son un tipo de secuencia inmutable. Esto quiere decir que una tupla no puede ser modificada (no se pueden añadir ni eliminar elementos a una tupla). Sintácticamente solo difiere de las listas por el uso de paréntesis () en vez de corchetes [] como delimitadores, con los métodos de índexado y de acceso análogo a las listas. \n",
    "\n",
    "El uso de tuplas inmutables tiene la ventaja de que nos garantiza que el valor no puede ser modificado por error, y una vez definido ya es mantenido durante toda su definición.\n",
    " \n",
    "### Crear una tupla vacía\n",
    "\n",
    "\n",
    "\n"
   ]
  },
  {
   "cell_type": "code",
   "execution_count": 27,
   "id": "a78aef98",
   "metadata": {},
   "outputs": [
    {
     "name": "stdout",
     "output_type": "stream",
     "text": [
      "La tupla 1 es: ()  y el tipo:  <class 'tuple'> y su tamaño es:  0\n",
      "La tupla 2 es: ()  y el tipo:  <class 'tuple'> y su tamaño es:  0\n"
     ]
    }
   ],
   "source": [
    "tupla_vacia_1 = ()\n",
    "tupla_vacia_2 = tuple()\n",
    "\n",
    "print('La tupla 1 es:', tupla_vacia_1, ' y el tipo: ', type(tupla_vacia_1), 'y su tamaño es: ', len(tupla_vacia_1))\n",
    "print('La tupla 2 es:', tupla_vacia_2, ' y el tipo: ', type(tupla_vacia_2), 'y su tamaño es: ', len(tupla_vacia_2))"
   ]
  },
  {
   "cell_type": "markdown",
   "id": "3413aa68",
   "metadata": {},
   "source": [
    "### Incializar tupla con uno o más elementos\n",
    "\n",
    "Para crear una tupla con un único elemento: elem, o (elem, ). Observa que siempre se añade una coma.\n",
    "\n",
    "Para crear una tupla de varios elementos, sepáralos con comas: a, b, c o (a, b, c).\n",
    "\n",
    "Las tuplas también se pueden crear usando el constructor de la clase, tuple(iterable). En este caso, el constructor crea una tupla cuyos elementos son los mismos y están en el mismo orden que los ítems del iterable. El objeto iterable puede ser una secuencia, un contenedor que soporte la iteración o un objeto iterador.\n",
    "\n"
   ]
  },
  {
   "cell_type": "code",
   "execution_count": 28,
   "id": "bd374344",
   "metadata": {},
   "outputs": [
    {
     "name": "stdout",
     "output_type": "stream",
     "text": [
      "La tupla 1 es: (1,)  y el tipo:  <class 'tuple'> y su tamaño es:  1\n",
      "La tupla 2 es: ([1, 2, 3],)  y el tipo:  <class 'tuple'> y su tamaño es:  1\n",
      "La tupla 3 es: (1, 2, 3)  y el tipo:  <class 'tuple'> y su tamaño es:  3\n"
     ]
    }
   ],
   "source": [
    "tupla_1 = 1,\n",
    "tupla_2 = ([1, 2, 3], )\n",
    "\n",
    "tupla_3 = tuple([1, 2, 3])\n",
    "\n",
    "print('La tupla 1 es:', tupla_1, ' y el tipo: ', type(tupla_1), 'y su tamaño es: ', len(tupla_1))\n",
    "print('La tupla 2 es:', tupla_2, ' y el tipo: ', type(tupla_2), 'y su tamaño es: ', len(tupla_2))\n",
    "print('La tupla 3 es:', tupla_3, ' y el tipo: ', type(tupla_3), 'y su tamaño es: ', len(tupla_3))"
   ]
  },
  {
   "cell_type": "markdown",
   "id": "c00477f9",
   "metadata": {},
   "source": [
    "### Indexado y particionado de tuplas\n",
    "\n",
    "Para acceder y particionar las tuplas, el procedimiento es análogo a las listas."
   ]
  },
  {
   "cell_type": "code",
   "execution_count": 29,
   "id": "6bbe142b",
   "metadata": {},
   "outputs": [
    {
     "name": "stdout",
     "output_type": "stream",
     "text": [
      "(6, 7, 8, 9)\n",
      "6\n",
      "9\n"
     ]
    }
   ],
   "source": [
    "tupla = (6, 7, 8,9)\n",
    "print(tupla)\n",
    "print(tupla[0])\n",
    "print(tupla[3])"
   ]
  },
  {
   "cell_type": "code",
   "execution_count": 30,
   "id": "5cfc7901",
   "metadata": {},
   "outputs": [
    {
     "name": "stdout",
     "output_type": "stream",
     "text": [
      "(6, 7, 8, 9)\n",
      "(7, 8)\n",
      "(6, 7, 8)\n",
      "(6, 7, 8, 9)\n"
     ]
    }
   ],
   "source": [
    "subtupla = tupla[1:3]\n",
    "print(tupla)\n",
    "print(subtupla)\n",
    "print(tupla[:-1])\n",
    "print(tupla[:])"
   ]
  },
  {
   "cell_type": "markdown",
   "id": "fec88ee1",
   "metadata": {},
   "source": [
    "### Métodos de la clase set en Python\n",
    "\n",
    "<style type=\"text/css\">\n",
    ".tg  {border-collapse:collapse;border-spacing:0;}\n",
    ".tg td{border-color:black;border-style:solid;border-width:1px;font-family:Arial, sans-serif;font-size:14px;\n",
    "  overflow:hidden;padding:10px 5px;word-break:normal;}\n",
    ".tg th{border-color:black;border-style:solid;border-width:1px;font-family:Arial, sans-serif;font-size:14px;\n",
    "  font-weight:normal;overflow:hidden;padding:10px 5px;word-break:normal;}\n",
    ".tg .tg-ujmt{background-color:#F7F7F9;border-color:inherit;color:#555;text-align:left;vertical-align:top}\n",
    ".tg .tg-hooj{background-color:#7A7A7A;border-color:inherit;color:#FFF;text-align:left;vertical-align:top}\n",
    ".tg .tg-izov{background-color:#FFF;border-color:inherit;color:#7A7A7A;text-align:left;vertical-align:top}\n",
    "</style>\n",
    "<table class=\"tg\">\n",
    "<thead>\n",
    "  <tr>\n",
    "    <th class=\"tg-hooj\"><span style=\"font-weight:400;color:#FFF;background-color:#7A7A7A\">Método</span></th>\n",
    "    <th class=\"tg-hooj\"><span style=\"font-weight:400;color:#FFF;background-color:#7A7A7A\">Descripción</span></th>\n",
    "  </tr>\n",
    "</thead>\n",
    "<tbody>\n",
    "  <tr>\n",
    "    <td class=\"tg-ujmt\"><span style=\"color:#555;background-color:#F7F7F9\">index(elemento)</span></td>\n",
    "    <td class=\"tg-izov\"><span style=\"font-weight:400\">Obtiene el índice de la primera ocurrencia del elemento en la tupla. Si el elemento no se encuentra, se lanza la excepción</span> <span style=\"color:#555;background-color:#F7F7F9\">ValueError</span><span style=\"font-weight:400\">.</span></td>\n",
    "  </tr>\n",
    "  <tr>\n",
    "    <td class=\"tg-ujmt\"><span style=\"color:#555;background-color:#F7F7F9\">count(elemento)</span></td>\n",
    "    <td class=\"tg-izov\"><span style=\"font-weight:400\">Devuelve el número de ocurrencias del elemento en la tupla.</span></td>\n",
    "  </tr>\n",
    "</tbody>\n",
    "</table>"
   ]
  },
  {
   "cell_type": "markdown",
   "id": "f4450166",
   "metadata": {},
   "source": [
    "## Diccionarios\n",
    "\n",
    "Un objeto dicciones es un objeto tipo mapeable, que a diferencia de los tipos secuianciales (list, tuple, range o str) indexados por su posición mediante un índice numérico, los diccionarios son indexados por claves. Por esto se puede definir a un diccionario como una colección de pares de objetos clave:valor, donde se puede acceder a los distintos valores mediantes claves, que deben ser un tipo inmutable (generalmente un int, float o string). \n",
    "\n",
    "A pesar de que las claves son de tipo inmutable, el objeto diccionario en sí es un objeto mutable, es decir su contenido puede modificarse después de creado; y ordenado, es decir que preserva el orden en el que se insertan los pares clave:valor\n",
    "\n",
    " \n",
    "\n",
    "### Inicializar un diccionario vacio\n",
    "\n",
    "Los delimitadores de un diccionario son las llaves { }, mediante ellos o el constructor dict es posible iniciar diccionarios vacíos:"
   ]
  },
  {
   "cell_type": "code",
   "execution_count": 31,
   "id": "26ac1114",
   "metadata": {},
   "outputs": [
    {
     "name": "stdout",
     "output_type": "stream",
     "text": [
      "El diccionario vacío 1 es: {}  y el tipo:  <class 'dict'> y su tamaño es:  0\n",
      "El diccionario vacío 2 es: {}  y el tipo:  <class 'dict'> y su tamaño es:  0\n"
     ]
    }
   ],
   "source": [
    "dict_vacio_1 = {}\n",
    "dict_vacio_2 = dict()\n",
    "\n",
    "print('El diccionario vacío 1 es:', dict_vacio_1, ' y el tipo: ', type(dict_vacio_1), 'y su tamaño es: ', len(dict_vacio_1))\n",
    "print('El diccionario vacío 2 es:', dict_vacio_2, ' y el tipo: ', type(dict_vacio_2), 'y su tamaño es: ', len(dict_vacio_2))"
   ]
  },
  {
   "cell_type": "markdown",
   "id": "b2a75d83",
   "metadata": {},
   "source": [
    "### Inicializar un diccionario con valores\n",
    "\n",
    "Con pares clave: valor encerrados entre llaves.\n",
    "Con argumentos con nombre. El nombre del argumento será la clave en el diccionario. En este caso, las claves solo pueden ser identificadores válidos y mantienen el orden en el que se indican. No se podría, por ejemplo, tener números enteros como claves.\n",
    "Pasando un iterable. En este caso, cada elemento del iterable debe ser también un iterable con solo dos elementos. El primero se toma como clave del diccionario y el segundo como valor. Si la clave aparece varias veces, el valor que prevalece es el último."
   ]
  },
  {
   "cell_type": "code",
   "execution_count": 32,
   "id": "6e344da4",
   "metadata": {},
   "outputs": [
    {
     "name": "stdout",
     "output_type": "stream",
     "text": [
      "El diccionario 1 es: {'B1': 1, 'B2': 2, 'B3': 3}  y el tipo:  <class 'dict'> y su tamaño es:  3\n",
      "El diccionario 2 es: {'modo_S1': 1, 'modo_S2': 2, 'modo_S3': 3}  y el tipo:  <class 'dict'> y su tamaño es:  3\n",
      "El diccionario 2 es: {'mv_sitio_1': 1, 'mv_sitio_2': 2, 'mv_sitio_3': 3}  y el tipo:  <class 'dict'> y su tamaño es:  3\n",
      "El diccionario 2 es: {1: 'uno', 2: 'dos', 3: 'tres'}  y el tipo:  <class 'dict'> y su tamaño es:  3\n"
     ]
    }
   ],
   "source": [
    "# 1. Pares clave: valor encerrados entre llaves\n",
    "dict_1 = {'B1': 1, 'B2': 2, 'B3': 3}\n",
    "\n",
    "# 2. Argumentos con nombre\n",
    "dict_2 = dict(modo_S1 = 1, modo_S2 = 2, modo_S3=3)\n",
    "\n",
    "# 3. Pares clave: valor encerrados entre llaves\n",
    "dict_3= dict({'mv_sitio_1': 1, 'mv_sitio_2': 2, 'mv_sitio_3': 3})\n",
    "\n",
    "# 4. Iterable que contiene iterables con dos elementos\n",
    "dict_4 = dict([(1, 'uno'), (2, 'dos'), (3, 'tres')])\n",
    "\n",
    "print('El diccionario 1 es:', dict_1, ' y el tipo: ', type(dict_1), 'y su tamaño es: ', len(dict_1))\n",
    "print('El diccionario 2 es:', dict_2, ' y el tipo: ', type(dict_2), 'y su tamaño es: ', len(dict_2))\n",
    "print('El diccionario 2 es:', dict_3, ' y el tipo: ', type(dict_3), 'y su tamaño es: ', len(dict_3))\n",
    "print('El diccionario 2 es:', dict_4, ' y el tipo: ', type(dict_4), 'y su tamaño es: ', len(dict_4))\n"
   ]
  },
  {
   "cell_type": "markdown",
   "id": "e47744df",
   "metadata": {},
   "source": [
    "### "
   ]
  },
  {
   "cell_type": "markdown",
   "id": "a1d484ee",
   "metadata": {},
   "source": [
    "\n",
    "\n",
    "##  Operaciones comunes de las secuencias\n",
    "\n",
    "Las operaciones de la siguiente tabla están soportadas por la mayoría de los tipos secuencia, tanto mutables como inmutables. La clase ABC collections.abc.Sequence se incluye para facilitar la implementación correcta de estas operaciones en nuestros propios tipos de secuencias.\n",
    "\n",
    "La tabla lista las operaciones ordenadas de menor a mayor prioridad. En la tabla, s y t representan secuencias del mismo tipo, n, i, j y k son números enteros y x es un objeto arbitrario que cumple con cualquier restricción de tipo o valor impuesta por s.\n",
    "\n"
   ]
  },
  {
   "cell_type": "markdown",
   "id": "ad5fa7c6",
   "metadata": {},
   "source": [
    "https://wiki.physics.udel.edu/wiki_qttg/images/3/31/BOOK=python_for_scientists.pdf\n",
    "\n",
    "https://link.springer.com/content/pdf/10.1007/978-3-030-50356-7.pdf\n",
    "\n",
    "https://j2logo.com/python\n",
    "\n",
    "https://ingsosa.com/"
   ]
  }
 ],
 "metadata": {
  "kernelspec": {
   "display_name": "Python 3.7.12 ('pygeo_book')",
   "language": "python",
   "name": "python3"
  },
  "language_info": {
   "codemirror_mode": {
    "name": "ipython",
    "version": 3
   },
   "file_extension": ".py",
   "mimetype": "text/x-python",
   "name": "python",
   "nbconvert_exporter": "python",
   "pygments_lexer": "ipython3",
   "version": "3.7.12"
  },
  "vscode": {
   "interpreter": {
    "hash": "75212034a15fe87100ac975bfc5a3e7ed91f0355efa502cabecca8fcfe7760fe"
   }
  }
 },
 "nbformat": 4,
 "nbformat_minor": 5
}