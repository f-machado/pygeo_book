{
 "cells": [
  {
   "cell_type": "markdown",
   "id": "29af938d",
   "metadata": {},
   "source": [
    "(file-types:notebooks)="
   ]
  },
  {
   "cell_type": "markdown",
   "id": "10203c7e",
   "metadata": {},
   "source": [
    "# Probando notebooks"
   ]
  },
  {
   "cell_type": "code",
   "execution_count": 1,
   "id": "8ae833a4",
   "metadata": {},
   "outputs": [],
   "source": [
    "import os\n",
    "import re\n",
    "#import rasterio as rio\n"
   ]
  },
  {
   "cell_type": "code",
   "execution_count": 2,
   "id": "3bfd9d35",
   "metadata": {},
   "outputs": [],
   "source": [
    "def listar_tiff(path, recursive = False):\n",
    "    lista = []\n",
    "    for file_name in glob.iglob(path+'**\\*.tif', recursive = recursive):\n",
    "        #print(file_name)\n",
    "        lista.append(file_name)\n",
    "    return lista"
   ]
  },
  {
   "cell_type": "code",
   "execution_count": 3,
   "id": "98e459e2",
   "metadata": {},
   "outputs": [
    {
     "name": "stdout",
     "output_type": "stream",
     "text": [
      "C:\\Users\\Fede\\Documents\\CONAE\\Book\\pygeo_book\n"
     ]
    }
   ],
   "source": [
    "os.chdir(r'..')\n",
    "current_work_directory = os.path.abspath(os.getcwd())\n",
    "print(current_work_directory)"
   ]
  },
  {
   "cell_type": "code",
   "execution_count": 4,
   "id": "3fa1ea1b",
   "metadata": {},
   "outputs": [],
   "source": [
    "archivo_tiff = r'Interferogram_flat.tif'"
   ]
  },
  {
   "cell_type": "code",
   "execution_count": null,
   "id": "17a1a566",
   "metadata": {},
   "outputs": [],
   "source": []
  }
 ],
 "metadata": {
  "kernelspec": {
   "display_name": "Python 3 (ipykernel)",
   "language": "python",
   "name": "python3"
  },
  "language_info": {
   "codemirror_mode": {
    "name": "ipython",
    "version": 3
   },
   "file_extension": ".py",
   "mimetype": "text/x-python",
   "name": "python",
   "nbconvert_exporter": "python",
   "pygments_lexer": "ipython3",
   "version": "3.7.12"
  }
 },
 "nbformat": 4,
 "nbformat_minor": 5
}