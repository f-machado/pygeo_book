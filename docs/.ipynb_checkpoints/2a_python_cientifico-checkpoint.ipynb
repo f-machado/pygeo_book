{
 "cells": [
  {
   "cell_type": "markdown",
   "id": "10203c7e",
   "metadata": {},
   "source": [
    "# Python científico"
   ]
  },
  {
   "cell_type": "markdown",
   "id": "40d2b0ae",
   "metadata": {},
   "source": [
    "El uso de Python en la comunidad científica responde a las necesidades de sus integrantes de contar con una herramienta que permita obtener, manipular y procesar datos con el objetivo de obtener resultados que puedan ser visualizados, fácilmente entendibles con figuras de alta calidad listas para reportes y/o publicaciones. "
   ]
  },
  {
   "cell_type": "markdown",
   "id": "a78e7c70",
   "metadata": {},
   "source": [
    "Comparados con otros lenguajes Python ofrece librerías científicas desarrolladas y maduras, con una comunidad activa en un marco de software libre y abierto. Muchas de estas librerías escapa del ámbito científico para proveer soporte en otras áreas de interés, como servidores web, acceso a puertos; todo ofrecido en un código con una gran variedad de entornos del cual podemos elegir trabajar, como IPython, Spyder, Jupyter notebooks, Pycharm, Visual Studio Code, entre otras. \n",
    "\n",
    "A diferencia de Matlab o R, Python no viene con una instalación por defecto de módulos usados en la comunidad científica. Esto nos permite importar las librerías que consideramos necesarias para nuestro proyecto, donde su implementación en general ya se encuentra edificientemente maximizada en términos de ejecución y memoria para una implementación rápida y robusta avalada por la comunidad. Además al ser abierto, cualquiera puede entrar a ver el código de cada librería para ver su implementación. \n",
    "\n",
    "\n",
    "\n",
    "\n",
    "\n",
    "Unlike Matlab, or R, Python does not come with a pre-bundled set of modules for scientific computing. Below are the basic building blocks that can be combined to obtain a scientific computing environment:\n",
    "\n",
    "One obvious reason we use scientific libraries is because they implement routines we want to use.\n",
    "\n",
    "For example, it’s almost always better to use an existing routine for root finding than to write a new one from scratch.\n",
    "\n",
    "(For standard algorithms, efficiency is maximized if the community can coordinate on a common set of implementations, written by experts and tuned by users to be as fast and robust as possible.)\n",
    "\n",
    "But this is not the only reason that we use Python’s scientific libraries.\n",
    "\n",
    "Another is that pure Python, while flexible and elegant, is not fast.\n",
    "\n",
    "So we need libraries that are designed to accelerate execution of Python code.\n",
    "\n",
    "As we’ll see below, there are now Python libraries that can do this extremely well.\n",
    "\n",
    "8.2.2. Python’s Scientific Ecosystem\n",
    "In terms of popularity, the big four in the world of scientific Python libraries are\n",
    "\n",
    "NumPy\n",
    "\n",
    "SciPy\n",
    "\n",
    "Matplotlib\n",
    "\n",
    "Pandas\n",
    "\n",
    "For us, there’s another (relatively new) library that will also be essential for numerical computing:\n",
    "\n",
    "Numba\n",
    "\n",
    "Over the next few lectures we’ll see how to use these libraries.\n",
    "\n",
    "But first, let’s quickly review how they fit together.\n",
    "\n",
    "NumPy forms the foundations by providing a basic array data type (think of vectors and matrices) and functions for acting on these arrays (e.g., matrix multiplication).\n",
    "\n",
    "SciPy builds on NumPy by adding the kinds of numerical methods that are routinely used in science (interpolation, optimization, root finding, etc.).\n",
    "\n",
    "Matplotlib is used to generate figures, with a focus on plotting data stored in NumPy arrays.\n",
    "\n",
    "Pandas provides types and functions for empirical work (e.g., manipulating data).\n",
    "\n",
    "Numba accelerates execution via JIT compilation — we’ll learn about this soon."
   ]
  },
  {
   "cell_type": "code",
   "execution_count": 4,
   "id": "8ae833a4",
   "metadata": {},
   "outputs": [],
   "source": [
    "import os\n",
    "import re\n",
    "#import rasterio as rio\n"
   ]
  },
  {
   "cell_type": "code",
   "execution_count": null,
   "id": "af2d77c6",
   "metadata": {},
   "outputs": [],
   "source": []
  },
  {
   "cell_type": "code",
   "execution_count": 2,
   "id": "3bfd9d35",
   "metadata": {},
   "outputs": [],
   "source": [
    "def listar_tiff(path, recursive = False):\n",
    "    lista = []\n",
    "    for file_name in glob.iglob(path+'**\\*.tif', recursive = recursive):\n",
    "        #print(file_name)\n",
    "        lista.append(file_name)\n",
    "    return lista"
   ]
  },
  {
   "cell_type": "code",
   "execution_count": 3,
   "id": "98e459e2",
   "metadata": {},
   "outputs": [
    {
     "name": "stdout",
     "output_type": "stream",
     "text": [
      "C:\\Users\\Fede\\Documents\\CONAE\\Book\\pygeo_book\n"
     ]
    }
   ],
   "source": [
    "os.chdir(r'..')\n",
    "current_work_directory = os.path.abspath(os.getcwd())\n",
    "print(current_work_directory)"
   ]
  },
  {
   "cell_type": "code",
   "execution_count": 4,
   "id": "3fa1ea1b",
   "metadata": {},
   "outputs": [],
   "source": [
    "archivo_tiff = r'Interferogram_flat.tif'"
   ]
  },
  {
   "cell_type": "code",
   "execution_count": null,
   "id": "17a1a566",
   "metadata": {},
   "outputs": [],
   "source": []
  }
 ],
 "metadata": {
  "kernelspec": {
   "display_name": "Python 3 (ipykernel)",
   "language": "python",
   "name": "python3"
  },
  "language_info": {
   "codemirror_mode": {
    "name": "ipython",
    "version": 3
   },
   "file_extension": ".py",
   "mimetype": "text/x-python",
   "name": "python",
   "nbconvert_exporter": "python",
   "pygments_lexer": "ipython3",
   "version": "3.7.12"
  }
 },
 "nbformat": 4,
 "nbformat_minor": 5
}
